{
  "nbformat": 4,
  "nbformat_minor": 0,
  "metadata": {
    "colab": {
      "name": "함수.ipynb",
      "provenance": [],
      "collapsed_sections": [],
      "authorship_tag": "ABX9TyPldy49QUXpkshVnNP4DEo4",
      "include_colab_link": true
    },
    "kernelspec": {
      "name": "python3",
      "display_name": "Python 3"
    },
    "language_info": {
      "name": "python"
    }
  },
  "cells": [
    {
      "cell_type": "markdown",
      "metadata": {
        "id": "view-in-github",
        "colab_type": "text"
      },
      "source": [
        "<a href=\"https://colab.research.google.com/github/heejvely/python_basic/blob/main/%ED%95%A8%EC%88%98.ipynb\" target=\"_parent\"><img src=\"https://colab.research.google.com/assets/colab-badge.svg\" alt=\"Open In Colab\"/></a>"
      ]
    },
    {
      "cell_type": "code",
      "execution_count": 1,
      "metadata": {
        "colab": {
          "base_uri": "https://localhost:8080/"
        },
        "id": "Tn8oCBbXYYdc",
        "outputId": "9918a8a5-3937-4a23-8584-6638be613cc4"
      },
      "outputs": [
        {
          "output_type": "stream",
          "name": "stdout",
          "text": [
            "Hi\n"
          ]
        }
      ],
      "source": [
        "# 입력값이 없고 결과값만 있는 함수\n",
        "\n",
        "def say():\n",
        "  return 'Hi'\n",
        "\n",
        "a = say()\n",
        "print(a)"
      ]
    },
    {
      "cell_type": "code",
      "source": [
        "# 결과 값(return)이 없는 함수\n",
        "def add(a,b):\n",
        "  print(a + b)\n",
        "\n",
        "add(2,3)"
      ],
      "metadata": {
        "colab": {
          "base_uri": "https://localhost:8080/"
        },
        "id": "MWUw6RJWYgKs",
        "outputId": "45cd8227-1606-48e4-e188-2e34035d3829"
      },
      "execution_count": 2,
      "outputs": [
        {
          "output_type": "stream",
          "name": "stdout",
          "text": [
            "5\n"
          ]
        }
      ]
    },
    {
      "cell_type": "code",
      "source": [
        "# 입력 값도 결과 값도 없는 함수\n",
        "def say():\n",
        "  print('Hi')\n",
        "\n",
        "say()"
      ],
      "metadata": {
        "colab": {
          "base_uri": "https://localhost:8080/"
        },
        "id": "BzeBvRSEYmvY",
        "outputId": "d963e987-5c8c-40ef-8f00-83dbb31006e7"
      },
      "execution_count": 3,
      "outputs": [
        {
          "output_type": "stream",
          "name": "stdout",
          "text": [
            "Hi\n"
          ]
        }
      ]
    },
    {
      "cell_type": "code",
      "source": [
        "# 여러 개의 입력값을 받는 함수\n",
        "\n",
        "def sum_many(*args):\n",
        "  sum = 0\n",
        "  for i in args:\n",
        "    sum += i\n",
        "  return sum\n",
        "\n",
        "sum_many(1,2,3,4,5,6,7,8,9,10)"
      ],
      "metadata": {
        "colab": {
          "base_uri": "https://localhost:8080/"
        },
        "id": "EgPjNbtfYrC4",
        "outputId": "5cfa698e-7d68-439a-aa34-164f6cd3839d"
      },
      "execution_count": 6,
      "outputs": [
        {
          "output_type": "execute_result",
          "data": {
            "text/plain": [
              "55"
            ]
          },
          "metadata": {},
          "execution_count": 6
        }
      ]
    },
    {
      "cell_type": "code",
      "source": [
        "# 함수의 반환(결과 값)은 언제나 하나임 - 결과값으로 튜플 값 하나로 처리\n",
        "\n",
        "def add_and_mul(a,b):\n",
        "  return a + b, a * b\n",
        "\n",
        "result = add_and_mul(3,4)\n",
        "print(result)"
      ],
      "metadata": {
        "colab": {
          "base_uri": "https://localhost:8080/"
        },
        "id": "J1d3gI8EZUzC",
        "outputId": "5f0ae391-91da-405e-a009-606525d0572e"
      },
      "execution_count": 7,
      "outputs": [
        {
          "output_type": "stream",
          "name": "stdout",
          "text": [
            "(7, 12)\n"
          ]
        }
      ]
    },
    {
      "cell_type": "code",
      "source": [
        "def add_and_mul(a,b):\n",
        "    return a+b, a*b\n",
        "    \n",
        "result = add_and_mul(2,3)\n",
        "print(result)"
      ],
      "metadata": {
        "colab": {
          "base_uri": "https://localhost:8080/"
        },
        "id": "154ktbDmZmnW",
        "outputId": "814c66fd-4ecd-4685-ac39-cf2197fab5b2"
      },
      "execution_count": 8,
      "outputs": [
        {
          "output_type": "stream",
          "name": "stdout",
          "text": [
            "(5, 6)\n"
          ]
        }
      ]
    },
    {
      "cell_type": "code",
      "source": [
        "# 하나의 튜플 값을 2개의 결과값처럼 출력\n",
        "\n",
        "def add_and_mul(a,b):\n",
        "  return a + b, a * b\n",
        "\n",
        "result1, result2 = add_and_mul(3,4)\n",
        "\n",
        "print(result1)\n",
        "print(result2)"
      ],
      "metadata": {
        "colab": {
          "base_uri": "https://localhost:8080/"
        },
        "id": "tuhu1reEZrJZ",
        "outputId": "d7fc657c-e131-45a4-cdc3-eb7cce0f24d4"
      },
      "execution_count": 9,
      "outputs": [
        {
          "output_type": "stream",
          "name": "stdout",
          "text": [
            "7\n",
            "12\n"
          ]
        }
      ]
    },
    {
      "cell_type": "code",
      "source": [
        "# add_mul() 함수를 정의하여 1,2,3,4,5를 입력값으로 적용하여 덧셈, 곱셈 연산을 수행\n",
        "# 입력값으로 연산방법과 숫자를 입력\n",
        "# add_mul('add',1,2,3,4,5)\n",
        "# add_mul('mul',1,2,3,4,5)\n",
        "\n",
        "def add_mul(choice, *a):\n",
        "  if choice == 'add':\n",
        "    result = 0\n",
        "    for r in a:\n",
        "      result += r\n",
        "  elif choice == 'mul':\n",
        "    result = 1\n",
        "    for r in a:\n",
        "      result *= r\n",
        "  return result\n",
        "\n",
        "print(add_mul('add',1,4,5,6,8))\n",
        "print(add_mul('mul',2,47,3,5,6))"
      ],
      "metadata": {
        "colab": {
          "base_uri": "https://localhost:8080/"
        },
        "id": "0FveLGquZ359",
        "outputId": "4ea1ec25-5552-4dd6-9869-bd1e38fc841f"
      },
      "execution_count": 10,
      "outputs": [
        {
          "output_type": "stream",
          "name": "stdout",
          "text": [
            "24\n",
            "8460\n"
          ]
        }
      ]
    },
    {
      "cell_type": "code",
      "source": [
        "# 문자열을 출력한다는 것과 return값(반환값)이 있다는 것은 전혀 다른 것임.\n",
        "\n",
        "def say_nick(nick):\n",
        "  if nick == '바보':\n",
        "    return '아니야!'\n",
        "  print(f'나의 별명은 {nick}입니다.')\n",
        "\n",
        "say_nick('히진스')\n",
        "say_nick('바보')"
      ],
      "metadata": {
        "colab": {
          "base_uri": "https://localhost:8080/",
          "height": 54
        },
        "id": "ACRICrvQaaje",
        "outputId": "ba0d9478-8991-420e-c3df-fb272c1ff246"
      },
      "execution_count": 11,
      "outputs": [
        {
          "output_type": "stream",
          "name": "stdout",
          "text": [
            "나의 별명은 히진스입니다.\n"
          ]
        },
        {
          "output_type": "execute_result",
          "data": {
            "application/vnd.google.colaboratory.intrinsic+json": {
              "type": "string"
            },
            "text/plain": [
              "'아니야!'"
            ]
          },
          "metadata": {},
          "execution_count": 11
        }
      ]
    },
    {
      "cell_type": "code",
      "source": [
        "# 입력 인수에 초기 값을 미리 설정하기\n",
        "# 초기값을 설정 인수 뒤에 초기값 설정하지 않은 입력 인수는 사용할 수 있음.\n",
        "\n",
        "def say_myself(name, old, man=True):\n",
        "  print(f'나의 이름은 {name}입니다.')\n",
        "  print(f'나이는 {old}입니다.')\n",
        "  if man:\n",
        "    print('남자입니다.')\n",
        "  else:\n",
        "    print('여자입니다.')\n",
        "\n",
        "say_myself('임희진', 26, False)"
      ],
      "metadata": {
        "colab": {
          "base_uri": "https://localhost:8080/"
        },
        "id": "F67leRgmavOk",
        "outputId": "df40d1a2-821e-43a7-c97f-2a14648ba682"
      },
      "execution_count": 12,
      "outputs": [
        {
          "output_type": "stream",
          "name": "stdout",
          "text": [
            "나의 이름은 임희진입니다.\n",
            "나이는 26입니다.\n",
            "여자입니다.\n"
          ]
        }
      ]
    },
    {
      "cell_type": "code",
      "source": [
        "# 함수 안에서 선언된 변수의 효력 범위\n",
        "\n",
        "a = 1\n",
        "\n",
        "def vartest(a):\n",
        "  return a + 1\n",
        "\n",
        "print(vartest(1))"
      ],
      "metadata": {
        "colab": {
          "base_uri": "https://localhost:8080/"
        },
        "id": "WauUnpofbUcF",
        "outputId": "8d09341c-736a-4572-ccc8-c5574faf6465"
      },
      "execution_count": 13,
      "outputs": [
        {
          "output_type": "stream",
          "name": "stdout",
          "text": [
            "2\n"
          ]
        }
      ]
    },
    {
      "cell_type": "code",
      "source": [
        "# 함수 안에서 함수 밖의 변수를 변경하는 방법 - return 이용\n",
        "\n",
        "a = 1\n",
        "\n",
        "def vartest(a):\n",
        "  a = a + 1\n",
        "  return a\n",
        "a = vartest(a)\n",
        "\n",
        "print(a)"
      ],
      "metadata": {
        "colab": {
          "base_uri": "https://localhost:8080/"
        },
        "id": "-iykvwW7bsAT",
        "outputId": "98ea2942-50fa-44e8-e477-92f63b934523"
      },
      "execution_count": 14,
      "outputs": [
        {
          "output_type": "stream",
          "name": "stdout",
          "text": [
            "2\n"
          ]
        }
      ]
    },
    {
      "cell_type": "code",
      "source": [
        "# global 명령을 이용하는 방법\n",
        "\n",
        "a = 1\n",
        "def vartest():\n",
        "  global a\n",
        "  a = a + 1\n",
        "\n",
        "vartest()\n",
        "print(a)"
      ],
      "metadata": {
        "colab": {
          "base_uri": "https://localhost:8080/"
        },
        "id": "Bg2mbPqLb2lL",
        "outputId": "df3dfbc3-d8af-41e2-959d-a905a04dfbcd"
      },
      "execution_count": 15,
      "outputs": [
        {
          "output_type": "stream",
          "name": "stdout",
          "text": [
            "2\n"
          ]
        }
      ]
    },
    {
      "cell_type": "code",
      "source": [
        "# 파일 읽고 쓰기\n",
        "\n",
        "f = open('test1.txt','w')\n",
        "f.close()"
      ],
      "metadata": {
        "id": "mEYTmQ1hcf2E"
      },
      "execution_count": 16,
      "outputs": []
    },
    {
      "cell_type": "code",
      "source": [
        "f = open('test1.txt','w')\n",
        "for i in range(1,11):\n",
        "  data = f'{i}번째 줄입니다.\\n'\n",
        "  f.write(data)\n",
        "f.close()"
      ],
      "metadata": {
        "id": "3LnLGBh4qzNt"
      },
      "execution_count": 17,
      "outputs": []
    },
    {
      "cell_type": "code",
      "source": [
        "f = open('test1.txt','r')\n",
        "line = f.readline()\n",
        "print(line)\n",
        "f.close()"
      ],
      "metadata": {
        "colab": {
          "base_uri": "https://localhost:8080/"
        },
        "id": "CKTHgCMMrFoz",
        "outputId": "e35e7e1c-ff23-480d-92d6-d2b3d093d120"
      },
      "execution_count": 18,
      "outputs": [
        {
          "output_type": "stream",
          "name": "stdout",
          "text": [
            "1번째 줄입니다.\n",
            "\n"
          ]
        }
      ]
    },
    {
      "cell_type": "code",
      "source": [
        "f = open('test1.txt','r')\n",
        "while 1:\n",
        "  line = f.readline()\n",
        "  if not line:\n",
        "    break\n",
        "  print(line)\n",
        "f.close()"
      ],
      "metadata": {
        "colab": {
          "base_uri": "https://localhost:8080/"
        },
        "id": "LGtSLH8UrE_t",
        "outputId": "bc1e5cb8-627b-4b1a-92c1-042fe128eec1"
      },
      "execution_count": 19,
      "outputs": [
        {
          "output_type": "stream",
          "name": "stdout",
          "text": [
            "1번째 줄입니다.\n",
            "\n",
            "2번째 줄입니다.\n",
            "\n",
            "3번째 줄입니다.\n",
            "\n",
            "4번째 줄입니다.\n",
            "\n",
            "5번째 줄입니다.\n",
            "\n",
            "6번째 줄입니다.\n",
            "\n",
            "7번째 줄입니다.\n",
            "\n",
            "8번째 줄입니다.\n",
            "\n",
            "9번째 줄입니다.\n",
            "\n",
            "10번째 줄입니다.\n",
            "\n"
          ]
        }
      ]
    },
    {
      "cell_type": "code",
      "source": [
        "# f.read()는 파일 내용 전체를 문자열로 반환한다.\n",
        "\n",
        "f = open('test1.txt','r')\n",
        "data = f.read()\n",
        "print(data)\n",
        "f.close()"
      ],
      "metadata": {
        "colab": {
          "base_uri": "https://localhost:8080/"
        },
        "id": "0r1Agn2trsuB",
        "outputId": "a9e38abf-81fc-4331-d4bc-d88621cd4821"
      },
      "execution_count": 20,
      "outputs": [
        {
          "output_type": "stream",
          "name": "stdout",
          "text": [
            "1번째 줄입니다.\n",
            "2번째 줄입니다.\n",
            "3번째 줄입니다.\n",
            "4번째 줄입니다.\n",
            "5번째 줄입니다.\n",
            "6번째 줄입니다.\n",
            "7번째 줄입니다.\n",
            "8번째 줄입니다.\n",
            "9번째 줄입니다.\n",
            "10번째 줄입니다.\n",
            "\n"
          ]
        }
      ]
    },
    {
      "cell_type": "code",
      "source": [
        "f = open('test1.txt','a')\n",
        "for i in range(11,16):\n",
        "  data = f'{i}번째 줄입니다.'\n",
        "  f.write(data)\n",
        "f.close()"
      ],
      "metadata": {
        "id": "oVpetmqsr8k-"
      },
      "execution_count": 21,
      "outputs": []
    },
    {
      "cell_type": "code",
      "source": [
        "f = open('test1.txt','r')\n",
        "data = f.read()\n",
        "print(data)\n",
        "f.close()"
      ],
      "metadata": {
        "colab": {
          "base_uri": "https://localhost:8080/"
        },
        "id": "HoLQJTd-sFOs",
        "outputId": "692af5f6-2f1f-434f-d9bb-0aff21bfce98"
      },
      "execution_count": 22,
      "outputs": [
        {
          "output_type": "stream",
          "name": "stdout",
          "text": [
            "1번째 줄입니다.\n",
            "2번째 줄입니다.\n",
            "3번째 줄입니다.\n",
            "4번째 줄입니다.\n",
            "5번째 줄입니다.\n",
            "6번째 줄입니다.\n",
            "7번째 줄입니다.\n",
            "8번째 줄입니다.\n",
            "9번째 줄입니다.\n",
            "10번째 줄입니다.\n",
            "11번째 줄입니다.12번째 줄입니다.13번째 줄입니다.14번째 줄입니다.15번째 줄입니다.\n"
          ]
        }
      ]
    },
    {
      "cell_type": "code",
      "source": [
        "# with 문과 같이 사용\n",
        "with open('foo.txt','w') as f:\n",
        "  f.write('파이썬을 배웁시다.')"
      ],
      "metadata": {
        "id": "GDkbOzMLtMNA"
      },
      "execution_count": 23,
      "outputs": []
    },
    {
      "cell_type": "code",
      "source": [
        "with open('foo.txt','r') as f:\n",
        "  data = f.read()\n",
        "print(data)"
      ],
      "metadata": {
        "colab": {
          "base_uri": "https://localhost:8080/"
        },
        "id": "oOI6FRuBtUbT",
        "outputId": "ba30cc62-0801-44a7-e720-6f3a012f997c"
      },
      "execution_count": 24,
      "outputs": [
        {
          "output_type": "stream",
          "name": "stdout",
          "text": [
            "파이썬을 배웁시다.\n"
          ]
        }
      ]
    },
    {
      "cell_type": "code",
      "source": [
        "with open('test2.txt','w') as f:\n",
        "  for i in range(1,11):\n",
        "    data = f'{i}번째 줄입니다.\\n'\n",
        "    f.write(data)\n",
        "f.close()"
      ],
      "metadata": {
        "id": "vhn3sTu9tYn0"
      },
      "execution_count": 25,
      "outputs": []
    },
    {
      "cell_type": "code",
      "source": [
        "with open('test2.txt','r') as f:\n",
        "  data = f.read()\n",
        "  print(data)\n",
        "f.close()"
      ],
      "metadata": {
        "colab": {
          "base_uri": "https://localhost:8080/"
        },
        "id": "4yyhCI_0thb_",
        "outputId": "c718d5a1-2570-4c9f-9d59-0bf2579c9040"
      },
      "execution_count": 26,
      "outputs": [
        {
          "output_type": "stream",
          "name": "stdout",
          "text": [
            "1번째 줄입니다.\n",
            "2번째 줄입니다.\n",
            "3번째 줄입니다.\n",
            "4번째 줄입니다.\n",
            "5번째 줄입니다.\n",
            "6번째 줄입니다.\n",
            "7번째 줄입니다.\n",
            "8번째 줄입니다.\n",
            "9번째 줄입니다.\n",
            "10번째 줄입니다.\n",
            "\n"
          ]
        }
      ]
    },
    {
      "cell_type": "code",
      "source": [
        "with open('test2.txt','a') as f:\n",
        "  for i in range(11,16):\n",
        "    data = f'{i}번째 줄입니다.\\n'\n",
        "    f.write(data)\n",
        "f.close()"
      ],
      "metadata": {
        "id": "3Nx1SX_FtmPl"
      },
      "execution_count": 28,
      "outputs": []
    },
    {
      "cell_type": "code",
      "source": [
        "with open('test2.txt','r') as f:\n",
        "  data = f.read()\n",
        "  print(data)\n",
        "f.close()"
      ],
      "metadata": {
        "colab": {
          "base_uri": "https://localhost:8080/"
        },
        "id": "i0At_H5Ittti",
        "outputId": "d673c67f-090b-4789-b798-d545302ddabb"
      },
      "execution_count": 29,
      "outputs": [
        {
          "output_type": "stream",
          "name": "stdout",
          "text": [
            "1번째 줄입니다.\n",
            "2번째 줄입니다.\n",
            "3번째 줄입니다.\n",
            "4번째 줄입니다.\n",
            "5번째 줄입니다.\n",
            "6번째 줄입니다.\n",
            "7번째 줄입니다.\n",
            "8번째 줄입니다.\n",
            "9번째 줄입니다.\n",
            "10번째 줄입니다.\n",
            "11번째 줄입니다.\n",
            "12번째 줄입니다.\n",
            "13번째 줄입니다.\n",
            "14번째 줄입니다.\n",
            "15번째 줄입니다.\n",
            "\n"
          ]
        }
      ]
    },
    {
      "cell_type": "markdown",
      "source": [
        "https://docs.python.org/ko/3/library/functions.html"
      ],
      "metadata": {
        "id": "66G54dlft5K4"
      }
    },
    {
      "cell_type": "code",
      "source": [
        "# 내장함수\n",
        "\n",
        "print(abs(-3)) # 절대값\n",
        "print(all([1,2,3,0])) # x가 모두 참이면 True, 거짓이 하나라도 있으면 False\n",
        "print(any([1,2,3,0])) # x 중 하나라도 참이면 참, 모두 False면 False\n",
        "print(chr(97))"
      ],
      "metadata": {
        "colab": {
          "base_uri": "https://localhost:8080/"
        },
        "id": "AM1HFtBtt2e-",
        "outputId": "292b2c0c-8f34-46ce-a876-61a9159ac3a8"
      },
      "execution_count": 30,
      "outputs": [
        {
          "output_type": "stream",
          "name": "stdout",
          "text": [
            "3\n",
            "False\n",
            "True\n",
            "a\n"
          ]
        }
      ]
    },
    {
      "cell_type": "code",
      "source": [
        "sum = lambda a,b : a+b\n",
        "\n",
        "sum(3,4)"
      ],
      "metadata": {
        "colab": {
          "base_uri": "https://localhost:8080/"
        },
        "id": "X-ywJV73uJiU",
        "outputId": "613b38ae-82d2-4e4f-8941-3964352e261e"
      },
      "execution_count": 31,
      "outputs": [
        {
          "output_type": "execute_result",
          "data": {
            "text/plain": [
              "7"
            ]
          },
          "metadata": {},
          "execution_count": 31
        }
      ]
    },
    {
      "cell_type": "code",
      "source": [
        "mylist = [lambda a,b:a+b, lambda a,b: a*b]\n",
        "print(mylist[0](3,4))\n",
        "print(mylist[1](4,5))"
      ],
      "metadata": {
        "colab": {
          "base_uri": "https://localhost:8080/"
        },
        "id": "PEtBIZ_ZuNHU",
        "outputId": "7b5444b0-0ae6-481e-a637-fe8b3af20d0f"
      },
      "execution_count": 32,
      "outputs": [
        {
          "output_type": "stream",
          "name": "stdout",
          "text": [
            "7\n",
            "20\n"
          ]
        }
      ]
    },
    {
      "cell_type": "code",
      "source": [
        "print(len('python'))\n",
        "print(len([1,2,3]))\n",
        "print(len([1,2,'a']))"
      ],
      "metadata": {
        "colab": {
          "base_uri": "https://localhost:8080/"
        },
        "id": "nY5TOTLAuVMT",
        "outputId": "a46fb7e5-7fdb-4ba7-9c69-e797d3a635b8"
      },
      "execution_count": 33,
      "outputs": [
        {
          "output_type": "stream",
          "name": "stdout",
          "text": [
            "6\n",
            "3\n",
            "3\n"
          ]
        }
      ]
    },
    {
      "cell_type": "code",
      "source": [
        "print(list('python'))\n",
        "list((1,2,3))"
      ],
      "metadata": {
        "colab": {
          "base_uri": "https://localhost:8080/"
        },
        "id": "l1vUcJc9uyaS",
        "outputId": "0e5a2a5c-3823-4f13-943b-e9b3a0413e8f"
      },
      "execution_count": 36,
      "outputs": [
        {
          "output_type": "stream",
          "name": "stdout",
          "text": [
            "['p', 'y', 't', 'h', 'o', 'n']\n"
          ]
        },
        {
          "output_type": "execute_result",
          "data": {
            "text/plain": [
              "[1, 2, 3]"
            ]
          },
          "metadata": {},
          "execution_count": 36
        }
      ]
    },
    {
      "cell_type": "code",
      "source": [
        "list(range(0,-10,-1))"
      ],
      "metadata": {
        "colab": {
          "base_uri": "https://localhost:8080/"
        },
        "id": "cVfiCcFIu0sG",
        "outputId": "655f92d4-e404-4ce8-fd4e-8ef31a64db33"
      },
      "execution_count": 37,
      "outputs": [
        {
          "output_type": "execute_result",
          "data": {
            "text/plain": [
              "[0, -1, -2, -3, -4, -5, -6, -7, -8, -9]"
            ]
          },
          "metadata": {},
          "execution_count": 37
        }
      ]
    },
    {
      "cell_type": "markdown",
      "source": [
        "외장 함수 https://yganalyst.github.io/data_handling/Py_study17/\n",
        "- 외장함수: 어떤 일을 할 때 어떤 라이브러리를 사용하는지를 알면 됨\n",
        "- 전 세계의 파이썬 사용자들이 만든 유용한 프로그램을 모아 놓은 것이 바로 파이썬\n",
        "- 파이썬 라이브러리는 파이썬을 설치할 때 자동으로 컴퓨터에 설치"
      ],
      "metadata": {
        "id": "hgoG4HpzvBIJ"
      }
    },
    {
      "cell_type": "code",
      "source": [
        "# pickle은 객체의 형태를 유지하면서 파일에 저장하고 불러올 수 있게 하는 모듈\n",
        "\n",
        "import pickle\n",
        "f = open('test.txt','wb')\n",
        "data = {1:'python',2:'you need'}\n",
        "pickle.dump(data,f)\n",
        "f.close()"
      ],
      "metadata": {
        "id": "aE9q1D-CvAh0"
      },
      "execution_count": 38,
      "outputs": []
    },
    {
      "cell_type": "code",
      "source": [
        "import pickle\n",
        "f = open('test.txt','rb')\n",
        "data = pickle.load(f)\n",
        "print(data)\n",
        "f.close()"
      ],
      "metadata": {
        "colab": {
          "base_uri": "https://localhost:8080/"
        },
        "id": "crEnAAJ9vRom",
        "outputId": "f203a93e-d4a6-47a2-d2ae-caee72cd5d32"
      },
      "execution_count": 41,
      "outputs": [
        {
          "output_type": "stream",
          "name": "stdout",
          "text": [
            "{1: 'python', 2: 'you need'}\n"
          ]
        }
      ]
    },
    {
      "cell_type": "code",
      "source": [
        "import os\n",
        "os.environ['PATH']"
      ],
      "metadata": {
        "colab": {
          "base_uri": "https://localhost:8080/",
          "height": 54
        },
        "id": "jnuaVq8ovXnc",
        "outputId": "d80e09ea-4e80-4bcc-84b2-72140eb01b4e"
      },
      "execution_count": 42,
      "outputs": [
        {
          "output_type": "execute_result",
          "data": {
            "application/vnd.google.colaboratory.intrinsic+json": {
              "type": "string"
            },
            "text/plain": [
              "'/usr/local/nvidia/bin:/usr/local/cuda/bin:/usr/local/sbin:/usr/local/bin:/usr/sbin:/usr/bin:/sbin:/bin:/tools/node/bin:/tools/google-cloud-sdk/bin:/opt/bin'"
            ]
          },
          "metadata": {},
          "execution_count": 42
        }
      ]
    },
    {
      "cell_type": "code",
      "source": [
        "%pwd"
      ],
      "metadata": {
        "colab": {
          "base_uri": "https://localhost:8080/",
          "height": 35
        },
        "id": "J0lTyEo-vevh",
        "outputId": "9d493d30-ff2e-4bc1-c98d-9aef857d062a"
      },
      "execution_count": 43,
      "outputs": [
        {
          "output_type": "execute_result",
          "data": {
            "application/vnd.google.colaboratory.intrinsic+json": {
              "type": "string"
            },
            "text/plain": [
              "'/content'"
            ]
          },
          "metadata": {},
          "execution_count": 43
        }
      ]
    },
    {
      "cell_type": "code",
      "source": [
        "# 폴더 변경\n",
        "import os\n",
        "os.chdir('/content/sample_data')"
      ],
      "metadata": {
        "id": "cQa6eLabvgkT"
      },
      "execution_count": 45,
      "outputs": []
    },
    {
      "cell_type": "code",
      "source": [
        "%pwd"
      ],
      "metadata": {
        "colab": {
          "base_uri": "https://localhost:8080/",
          "height": 35
        },
        "id": "rr1xQ8b2vmZg",
        "outputId": "af8cbc69-5082-4055-e911-65b6549b1f27"
      },
      "execution_count": 46,
      "outputs": [
        {
          "output_type": "execute_result",
          "data": {
            "application/vnd.google.colaboratory.intrinsic+json": {
              "type": "string"
            },
            "text/plain": [
              "'/content/sample_data'"
            ]
          },
          "metadata": {},
          "execution_count": 46
        }
      ]
    },
    {
      "cell_type": "code",
      "source": [
        "# 현재 폴더 반환\n",
        "\n",
        "os.getcwd()"
      ],
      "metadata": {
        "colab": {
          "base_uri": "https://localhost:8080/",
          "height": 35
        },
        "id": "hiHRocx2vsRd",
        "outputId": "1fb34796-1235-4b3f-9c18-d4a67b1b6b6a"
      },
      "execution_count": 47,
      "outputs": [
        {
          "output_type": "execute_result",
          "data": {
            "application/vnd.google.colaboratory.intrinsic+json": {
              "type": "string"
            },
            "text/plain": [
              "'/content/sample_data'"
            ]
          },
          "metadata": {},
          "execution_count": 47
        }
      ]
    },
    {
      "cell_type": "code",
      "source": [
        "os.chdir('/content')"
      ],
      "metadata": {
        "id": "85ejzIE4v1a6"
      },
      "execution_count": 49,
      "outputs": []
    },
    {
      "cell_type": "code",
      "source": [
        "# 파일명 변경\n",
        "\n",
        "os.rename('test2.txt','test_new.txt')"
      ],
      "metadata": {
        "id": "gOP2RfEBvuhx"
      },
      "execution_count": 53,
      "outputs": []
    },
    {
      "cell_type": "code",
      "source": [
        "import glob\n",
        "glob.glob('/content/*.txt')"
      ],
      "metadata": {
        "colab": {
          "base_uri": "https://localhost:8080/"
        },
        "id": "Hb6-v0nSv0gR",
        "outputId": "5bc5fad4-ba7c-4e6c-fa08-0c23fe10530c"
      },
      "execution_count": 54,
      "outputs": [
        {
          "output_type": "execute_result",
          "data": {
            "text/plain": [
              "['/content/test_new.txt',\n",
              " '/content/test1.txt',\n",
              " '/content/foo.txt',\n",
              " '/content/test.txt']"
            ]
          },
          "metadata": {},
          "execution_count": 54
        }
      ]
    },
    {
      "cell_type": "code",
      "source": [
        "import time\n",
        "\n",
        "time.time()"
      ],
      "metadata": {
        "colab": {
          "base_uri": "https://localhost:8080/"
        },
        "id": "IPh0w_f9v-67",
        "outputId": "8a892c7b-90d2-43a5-f543-4b3f584c4e4a"
      },
      "execution_count": 55,
      "outputs": [
        {
          "output_type": "execute_result",
          "data": {
            "text/plain": [
              "1639364739.2115247"
            ]
          },
          "metadata": {},
          "execution_count": 55
        }
      ]
    },
    {
      "cell_type": "code",
      "source": [
        "time.localtime(time.time())"
      ],
      "metadata": {
        "colab": {
          "base_uri": "https://localhost:8080/"
        },
        "id": "WroxPE7gwL1d",
        "outputId": "45bc70a0-2303-42b8-b283-79613da20c34"
      },
      "execution_count": 56,
      "outputs": [
        {
          "output_type": "execute_result",
          "data": {
            "text/plain": [
              "time.struct_time(tm_year=2021, tm_mon=12, tm_mday=13, tm_hour=3, tm_min=5, tm_sec=46, tm_wday=0, tm_yday=347, tm_isdst=0)"
            ]
          },
          "metadata": {},
          "execution_count": 56
        }
      ]
    },
    {
      "cell_type": "code",
      "source": [
        "time.asctime(time.localtime(time.time()))"
      ],
      "metadata": {
        "colab": {
          "base_uri": "https://localhost:8080/",
          "height": 35
        },
        "id": "SfX7WfIewNv0",
        "outputId": "51fad11c-50d0-4a81-e227-a1f21653f383"
      },
      "execution_count": 58,
      "outputs": [
        {
          "output_type": "execute_result",
          "data": {
            "application/vnd.google.colaboratory.intrinsic+json": {
              "type": "string"
            },
            "text/plain": [
              "'Mon Dec 13 03:06:06 2021'"
            ]
          },
          "metadata": {},
          "execution_count": 58
        }
      ]
    },
    {
      "cell_type": "code",
      "source": [
        "# time.sleep() : 일정한 시간 간격을 두고 루프를 실행할 수 있음.\n",
        "\n",
        "for i in range(10):\n",
        "  print(i)\n",
        "  time.sleep(1)"
      ],
      "metadata": {
        "colab": {
          "base_uri": "https://localhost:8080/"
        },
        "id": "CsUkzx0kwQc0",
        "outputId": "9a9b10a0-8b1a-4c58-dc73-531332b9f0f4"
      },
      "execution_count": 59,
      "outputs": [
        {
          "output_type": "stream",
          "name": "stdout",
          "text": [
            "0\n",
            "1\n",
            "2\n",
            "3\n",
            "4\n",
            "5\n",
            "6\n",
            "7\n",
            "8\n",
            "9\n"
          ]
        }
      ]
    },
    {
      "cell_type": "code",
      "source": [
        "import calendar\n",
        "print(calendar.prmonth(2021,12))"
      ],
      "metadata": {
        "colab": {
          "base_uri": "https://localhost:8080/"
        },
        "id": "WZj3o6jYwaMP",
        "outputId": "4513e959-2ee5-4d0e-e989-e29eaf336297"
      },
      "execution_count": 60,
      "outputs": [
        {
          "output_type": "stream",
          "name": "stdout",
          "text": [
            "   December 2021\n",
            "Mo Tu We Th Fr Sa Su\n",
            "       1  2  3  4  5\n",
            " 6  7  8  9 10 11 12\n",
            "13 14 15 16 17 18 19\n",
            "20 21 22 23 24 25 26\n",
            "27 28 29 30 31\n",
            "None\n"
          ]
        }
      ]
    },
    {
      "cell_type": "code",
      "source": [
        "# 월요일(0)부터 시작\n",
        "\n",
        "print(calendar.weekday(2021, 12, 31))\n",
        "\n",
        "#(1일의 요일, 달의 총 일수)\n",
        "\n",
        "print(calendar.monthrange(2021,12))"
      ],
      "metadata": {
        "colab": {
          "base_uri": "https://localhost:8080/"
        },
        "id": "f6Z77WLTwfHv",
        "outputId": "e886f499-9e38-45a1-a8f6-21c8d9f3fc92"
      },
      "execution_count": 63,
      "outputs": [
        {
          "output_type": "stream",
          "name": "stdout",
          "text": [
            "4\n",
            "(2, 31)\n"
          ]
        }
      ]
    },
    {
      "cell_type": "code",
      "source": [
        "import webbrowser\n",
        "webbrowser.open('http://google.com')"
      ],
      "metadata": {
        "colab": {
          "base_uri": "https://localhost:8080/"
        },
        "id": "13ex29UHwq7V",
        "outputId": "6c1c44b7-f678-46e8-ab3b-9f129d4c57e2"
      },
      "execution_count": 64,
      "outputs": [
        {
          "output_type": "execute_result",
          "data": {
            "text/plain": [
              "False"
            ]
          },
          "metadata": {},
          "execution_count": 64
        }
      ]
    },
    {
      "cell_type": "code",
      "source": [
        "# 랜덤하게 1,000명의 이름, 키와 몸무게 만들기\n",
        "\n",
        "import random\n",
        "\n",
        "hanguls = list('가나다라마바사아자차카타파하')\n",
        "with open('info.txt','w') as f:\n",
        "  for i in range(1,1001):\n",
        "    name = random.choice(hanguls) + random.choice(hanguls)\n",
        "    height = random.randrange(140,200)\n",
        "    weight = random.randrange(40,100)\n",
        "    f.write(f'{name},{height},{weight}\\n')"
      ],
      "metadata": {
        "id": "w77GBKQmw6Dc"
      },
      "execution_count": 65,
      "outputs": []
    },
    {
      "cell_type": "code",
      "source": [
        "with open('info.txt','r') as f:\n",
        "  data = f.read()\n",
        "  print(data)\n",
        "f.close()"
      ],
      "metadata": {
        "colab": {
          "base_uri": "https://localhost:8080/"
        },
        "id": "cf0wNQU3xTg9",
        "outputId": "8b78e55c-d1ac-4780-b5c8-72708d834a58"
      },
      "execution_count": 66,
      "outputs": [
        {
          "output_type": "stream",
          "name": "stdout",
          "text": [
            "자마,155,83\n",
            "타바,183,71\n",
            "파타,193,74\n",
            "차아,141,87\n",
            "다가,198,90\n",
            "다타,152,83\n",
            "아하,188,84\n",
            "하사,190,78\n",
            "가하,177,43\n",
            "나라,158,59\n",
            "라카,147,48\n",
            "자마,180,64\n",
            "가사,178,66\n",
            "아하,172,59\n",
            "나아,191,51\n",
            "다카,176,47\n",
            "파파,179,99\n",
            "사아,186,53\n",
            "자사,188,86\n",
            "타차,191,55\n",
            "하마,185,76\n",
            "카타,182,99\n",
            "나아,150,60\n",
            "다나,176,96\n",
            "사가,160,42\n",
            "차나,158,96\n",
            "파자,141,78\n",
            "나하,190,86\n",
            "가하,196,53\n",
            "라카,147,88\n",
            "가파,174,88\n",
            "자다,143,96\n",
            "나가,166,44\n",
            "아아,149,85\n",
            "파자,175,70\n",
            "파나,176,66\n",
            "차마,184,70\n",
            "마가,190,51\n",
            "파라,163,53\n",
            "타바,173,48\n",
            "라다,166,55\n",
            "파바,198,57\n",
            "나하,194,55\n",
            "하아,189,65\n",
            "바차,141,91\n",
            "라카,169,54\n",
            "파마,183,71\n",
            "사바,195,74\n",
            "나하,175,62\n",
            "카하,180,47\n",
            "차마,167,60\n",
            "카차,152,67\n",
            "카마,153,92\n",
            "라카,198,52\n",
            "마마,167,46\n",
            "가차,177,71\n",
            "아마,162,50\n",
            "아아,196,41\n",
            "다타,173,62\n",
            "마카,170,68\n",
            "하파,143,65\n",
            "바사,140,92\n",
            "나사,140,61\n",
            "바하,169,65\n",
            "아자,162,86\n",
            "아차,154,59\n",
            "나마,171,42\n",
            "마다,153,50\n",
            "카가,177,91\n",
            "마나,196,90\n",
            "라바,148,73\n",
            "가사,175,92\n",
            "라나,177,56\n",
            "파자,158,52\n",
            "카파,183,93\n",
            "아마,154,91\n",
            "가사,192,51\n",
            "다하,162,62\n",
            "아아,147,59\n",
            "바하,141,59\n",
            "바바,168,80\n",
            "카아,153,96\n",
            "바하,152,80\n",
            "가다,166,65\n",
            "카사,144,75\n",
            "아카,190,57\n",
            "아아,144,44\n",
            "마사,178,80\n",
            "마나,196,40\n",
            "바차,155,89\n",
            "가파,189,54\n",
            "다파,191,94\n",
            "자사,154,79\n",
            "라바,183,52\n",
            "파차,175,51\n",
            "타마,197,93\n",
            "나나,172,95\n",
            "가카,179,47\n",
            "카파,174,41\n",
            "타자,193,61\n",
            "파자,150,40\n",
            "사타,153,44\n",
            "파타,160,86\n",
            "아아,153,78\n",
            "타라,145,59\n",
            "바라,198,56\n",
            "사아,173,73\n",
            "라파,163,69\n",
            "가다,175,76\n",
            "아바,175,68\n",
            "차나,182,78\n",
            "나바,157,47\n",
            "카바,158,59\n",
            "바나,151,76\n",
            "자차,196,98\n",
            "사자,150,90\n",
            "가카,161,60\n",
            "가바,161,81\n",
            "마카,173,52\n",
            "사자,145,58\n",
            "나다,151,44\n",
            "라파,158,71\n",
            "바마,148,63\n",
            "아하,185,75\n",
            "하파,163,86\n",
            "타타,141,93\n",
            "파다,189,78\n",
            "다자,198,79\n",
            "마차,140,57\n",
            "마자,145,57\n",
            "바마,149,64\n",
            "가바,168,65\n",
            "파사,170,50\n",
            "마다,140,63\n",
            "사나,178,68\n",
            "하라,164,57\n",
            "다가,149,46\n",
            "아나,150,99\n",
            "차하,160,95\n",
            "나가,193,44\n",
            "다마,153,98\n",
            "타마,169,77\n",
            "하바,185,62\n",
            "자바,151,91\n",
            "하아,155,74\n",
            "하가,197,68\n",
            "카바,144,81\n",
            "사바,153,92\n",
            "사사,166,92\n",
            "라사,191,63\n",
            "가나,156,60\n",
            "아나,153,58\n",
            "다바,151,40\n",
            "가하,185,89\n",
            "사하,197,72\n",
            "가가,183,59\n",
            "타아,174,64\n",
            "카자,178,73\n",
            "차다,167,50\n",
            "바차,151,86\n",
            "하사,173,64\n",
            "마카,157,99\n",
            "차다,188,78\n",
            "파가,198,77\n",
            "다마,174,68\n",
            "가마,157,62\n",
            "다바,162,70\n",
            "마자,176,84\n",
            "카하,141,75\n",
            "자나,149,84\n",
            "타라,143,57\n",
            "타나,150,49\n",
            "하자,193,88\n",
            "차다,161,55\n",
            "아자,170,94\n",
            "차다,142,67\n",
            "자마,165,79\n",
            "바카,196,95\n",
            "자사,184,55\n",
            "바바,164,84\n",
            "하가,198,99\n",
            "나타,146,98\n",
            "카자,196,73\n",
            "타사,152,52\n",
            "자마,183,85\n",
            "라파,179,98\n",
            "라자,178,74\n",
            "바차,197,63\n",
            "파마,180,55\n",
            "다아,189,71\n",
            "하파,140,75\n",
            "사파,198,56\n",
            "카자,174,87\n",
            "하타,183,47\n",
            "사라,161,89\n",
            "바다,168,72\n",
            "라파,140,49\n",
            "마파,160,79\n",
            "파바,160,65\n",
            "자아,184,40\n",
            "파카,176,63\n",
            "바파,193,69\n",
            "하아,196,45\n",
            "나자,161,61\n",
            "타가,165,87\n",
            "가자,156,49\n",
            "타나,181,50\n",
            "파사,170,78\n",
            "차하,151,44\n",
            "파가,188,82\n",
            "파하,160,45\n",
            "다파,191,49\n",
            "파바,198,95\n",
            "카카,199,57\n",
            "나타,172,42\n",
            "다아,147,89\n",
            "아하,181,86\n",
            "마타,140,88\n",
            "가하,177,48\n",
            "파아,175,57\n",
            "나아,146,80\n",
            "다사,185,40\n",
            "가가,159,97\n",
            "차가,149,87\n",
            "바차,140,51\n",
            "바다,163,78\n",
            "가나,172,92\n",
            "나카,153,97\n",
            "차아,164,96\n",
            "나다,141,57\n",
            "가가,178,77\n",
            "다아,171,98\n",
            "바하,177,80\n",
            "차다,156,87\n",
            "나사,143,44\n",
            "바타,140,72\n",
            "하아,167,63\n",
            "나파,191,41\n",
            "사하,169,96\n",
            "가자,168,83\n",
            "가바,178,52\n",
            "차바,182,76\n",
            "사사,155,59\n",
            "자사,197,98\n",
            "마나,173,57\n",
            "아하,178,45\n",
            "파나,195,78\n",
            "가자,197,98\n",
            "라마,199,83\n",
            "마타,159,63\n",
            "다바,160,45\n",
            "차자,198,92\n",
            "마하,152,82\n",
            "하라,198,93\n",
            "차카,179,58\n",
            "가다,151,99\n",
            "하파,153,79\n",
            "하가,144,89\n",
            "다바,141,69\n",
            "가사,142,54\n",
            "사하,162,67\n",
            "하가,189,53\n",
            "마차,190,91\n",
            "사차,149,83\n",
            "차차,183,78\n",
            "라바,190,65\n",
            "아나,174,48\n",
            "카다,155,50\n",
            "카다,143,82\n",
            "라자,191,43\n",
            "파자,183,44\n",
            "자가,179,58\n",
            "파하,159,85\n",
            "아하,141,73\n",
            "사아,159,81\n",
            "차바,172,69\n",
            "파카,169,63\n",
            "가자,189,93\n",
            "하나,156,66\n",
            "사아,151,87\n",
            "아카,177,50\n",
            "차차,144,53\n",
            "자가,165,73\n",
            "파타,162,92\n",
            "가다,192,43\n",
            "차바,140,80\n",
            "라파,191,71\n",
            "차파,141,45\n",
            "카아,177,42\n",
            "파라,148,60\n",
            "사라,196,44\n",
            "가나,158,59\n",
            "바다,171,40\n",
            "파다,165,65\n",
            "차사,157,78\n",
            "파타,184,68\n",
            "하나,143,64\n",
            "마다,185,98\n",
            "파다,167,72\n",
            "다라,178,81\n",
            "파파,198,61\n",
            "하카,164,97\n",
            "바라,175,84\n",
            "하차,163,81\n",
            "바라,161,64\n",
            "마바,166,75\n",
            "카파,153,69\n",
            "가사,176,43\n",
            "사나,183,41\n",
            "하아,197,58\n",
            "하바,190,44\n",
            "가다,171,88\n",
            "타나,144,63\n",
            "가라,194,79\n",
            "가마,145,42\n",
            "차아,158,60\n",
            "하바,172,46\n",
            "아파,173,78\n",
            "타나,155,94\n",
            "다나,195,65\n",
            "나바,193,57\n",
            "자타,162,90\n",
            "바타,142,75\n",
            "사자,168,76\n",
            "파자,140,68\n",
            "차하,172,56\n",
            "파타,185,58\n",
            "사카,182,49\n",
            "아마,148,85\n",
            "나마,177,86\n",
            "가하,174,68\n",
            "사가,178,57\n",
            "타아,186,70\n",
            "아하,145,96\n",
            "다나,194,61\n",
            "자라,181,86\n",
            "차마,176,55\n",
            "라아,182,68\n",
            "가차,141,70\n",
            "사파,142,86\n",
            "카파,179,52\n",
            "카하,179,98\n",
            "파차,181,90\n",
            "사파,196,49\n",
            "라카,177,43\n",
            "라차,193,72\n",
            "라자,146,67\n",
            "타가,190,63\n",
            "라바,154,74\n",
            "가하,175,43\n",
            "자나,173,91\n",
            "가카,148,74\n",
            "하차,177,63\n",
            "나나,181,91\n",
            "파나,142,73\n",
            "마차,176,95\n",
            "아카,162,90\n",
            "타아,182,75\n",
            "카나,198,63\n",
            "다자,174,85\n",
            "라나,191,54\n",
            "사가,143,47\n",
            "하마,176,73\n",
            "바차,177,85\n",
            "파아,188,43\n",
            "차자,154,67\n",
            "나타,176,61\n",
            "사카,168,76\n",
            "타가,192,85\n",
            "카차,194,89\n",
            "가나,149,99\n",
            "아타,143,54\n",
            "파하,166,90\n",
            "라다,197,86\n",
            "라자,146,94\n",
            "자마,164,78\n",
            "자아,151,70\n",
            "가파,186,68\n",
            "하나,180,44\n",
            "사자,165,44\n",
            "사라,171,45\n",
            "타타,195,78\n",
            "마사,187,57\n",
            "가하,182,63\n",
            "타나,179,50\n",
            "라하,146,58\n",
            "사다,142,41\n",
            "자타,163,92\n",
            "나나,192,67\n",
            "바차,193,77\n",
            "다라,160,96\n",
            "사바,166,62\n",
            "바카,167,96\n",
            "마타,190,52\n",
            "아파,147,46\n",
            "아카,161,53\n",
            "파가,153,89\n",
            "마마,174,81\n",
            "나가,157,90\n",
            "라바,197,43\n",
            "바파,169,60\n",
            "하라,159,46\n",
            "하파,159,68\n",
            "아가,190,58\n",
            "마파,187,77\n",
            "라마,184,58\n",
            "사카,143,87\n",
            "바하,141,44\n",
            "자가,154,42\n",
            "아하,197,66\n",
            "타파,144,87\n",
            "라파,182,88\n",
            "카카,184,70\n",
            "자차,180,42\n",
            "다사,186,63\n",
            "사라,162,52\n",
            "마바,166,95\n",
            "사사,186,92\n",
            "아나,165,64\n",
            "하타,175,55\n",
            "하타,176,80\n",
            "타타,161,78\n",
            "아카,146,64\n",
            "카파,166,62\n",
            "다아,183,67\n",
            "자타,181,49\n",
            "라마,191,80\n",
            "마바,164,50\n",
            "타다,195,51\n",
            "차타,145,50\n",
            "하사,143,82\n",
            "타파,188,49\n",
            "사파,183,55\n",
            "파마,158,76\n",
            "아가,155,73\n",
            "타자,168,67\n",
            "가나,166,53\n",
            "바바,168,91\n",
            "차다,165,42\n",
            "바자,165,44\n",
            "타타,185,57\n",
            "차자,192,89\n",
            "바타,178,45\n",
            "나바,178,69\n",
            "타사,181,43\n",
            "나카,175,54\n",
            "다다,191,71\n",
            "하가,167,61\n",
            "자마,177,83\n",
            "라아,187,48\n",
            "아나,148,46\n",
            "자타,186,50\n",
            "나라,147,42\n",
            "자타,185,86\n",
            "파타,163,75\n",
            "마나,181,50\n",
            "라파,163,63\n",
            "바바,191,96\n",
            "가바,176,64\n",
            "바하,173,94\n",
            "바파,172,50\n",
            "자타,167,92\n",
            "라라,166,73\n",
            "나다,198,84\n",
            "가나,182,63\n",
            "파타,151,48\n",
            "바마,172,61\n",
            "사타,159,94\n",
            "자하,164,65\n",
            "타자,145,85\n",
            "가다,153,72\n",
            "바카,151,94\n",
            "차하,199,42\n",
            "파아,192,84\n",
            "파카,162,55\n",
            "차마,154,92\n",
            "다타,165,66\n",
            "카나,162,70\n",
            "나차,199,82\n",
            "카사,166,93\n",
            "차다,185,87\n",
            "바타,143,85\n",
            "라하,180,44\n",
            "다마,175,67\n",
            "자가,199,81\n",
            "아카,158,48\n",
            "나사,147,65\n",
            "카다,186,57\n",
            "라바,141,74\n",
            "카타,142,88\n",
            "차카,182,87\n",
            "타다,141,60\n",
            "하파,163,95\n",
            "카바,197,62\n",
            "마자,167,49\n",
            "타사,184,74\n",
            "다가,148,61\n",
            "하가,177,67\n",
            "타마,175,61\n",
            "하아,178,63\n",
            "타자,186,63\n",
            "나나,170,50\n",
            "타마,157,67\n",
            "마다,173,87\n",
            "나카,174,89\n",
            "자차,145,74\n",
            "나차,160,46\n",
            "마하,164,45\n",
            "나마,152,49\n",
            "카나,172,53\n",
            "라나,158,83\n",
            "아하,141,45\n",
            "다파,148,86\n",
            "바나,175,80\n",
            "사나,164,43\n",
            "차가,191,56\n",
            "카라,148,80\n",
            "마파,168,70\n",
            "마마,169,60\n",
            "가아,163,89\n",
            "가바,155,57\n",
            "가하,151,76\n",
            "가차,162,40\n",
            "차아,169,61\n",
            "나타,143,49\n",
            "바자,155,48\n",
            "다마,156,82\n",
            "차사,186,85\n",
            "다나,199,72\n",
            "자파,141,91\n",
            "카카,152,49\n",
            "자카,186,57\n",
            "차라,141,60\n",
            "라바,142,83\n",
            "나바,148,99\n",
            "차다,187,92\n",
            "바카,160,66\n",
            "자다,141,51\n",
            "나카,191,81\n",
            "차타,150,50\n",
            "라아,158,54\n",
            "하자,161,55\n",
            "자다,181,55\n",
            "타하,172,51\n",
            "나사,142,60\n",
            "자바,199,84\n",
            "바바,152,91\n",
            "가마,183,78\n",
            "다파,146,60\n",
            "사자,195,52\n",
            "다가,160,72\n",
            "다라,188,72\n",
            "차카,193,90\n",
            "가자,157,65\n",
            "자카,152,45\n",
            "차나,163,64\n",
            "라아,152,43\n",
            "바타,198,77\n",
            "사아,151,59\n",
            "차가,155,53\n",
            "하하,167,95\n",
            "라다,172,80\n",
            "차다,145,61\n",
            "마자,182,43\n",
            "사다,147,73\n",
            "하카,148,83\n",
            "바다,161,76\n",
            "바카,183,90\n",
            "아라,167,58\n",
            "가자,158,80\n",
            "바마,187,97\n",
            "마하,195,98\n",
            "다아,158,54\n",
            "사카,181,55\n",
            "자하,193,72\n",
            "하아,157,88\n",
            "자라,180,45\n",
            "마자,195,75\n",
            "파카,186,50\n",
            "라나,155,85\n",
            "파차,158,58\n",
            "바카,187,93\n",
            "마라,159,42\n",
            "타가,181,93\n",
            "바파,164,53\n",
            "파타,142,58\n",
            "마파,179,73\n",
            "아마,199,86\n",
            "가다,196,48\n",
            "자가,175,60\n",
            "나바,183,64\n",
            "나라,161,69\n",
            "다자,181,98\n",
            "차다,196,53\n",
            "아카,184,67\n",
            "바라,143,50\n",
            "자카,157,95\n",
            "가마,140,51\n",
            "라카,194,57\n",
            "하나,162,97\n",
            "다다,162,88\n",
            "나마,199,61\n",
            "나자,147,43\n",
            "타차,159,89\n",
            "카다,196,71\n",
            "바라,199,77\n",
            "마자,178,93\n",
            "가마,168,40\n",
            "바아,168,93\n",
            "다타,150,75\n",
            "마자,170,74\n",
            "아차,197,85\n",
            "자카,184,42\n",
            "다카,147,84\n",
            "파마,157,52\n",
            "타가,144,41\n",
            "자가,160,46\n",
            "타타,156,45\n",
            "자사,141,76\n",
            "자자,199,52\n",
            "아바,141,94\n",
            "가다,167,55\n",
            "바나,175,56\n",
            "아나,163,55\n",
            "나바,159,83\n",
            "차사,189,76\n",
            "사사,154,68\n",
            "하아,164,72\n",
            "라파,153,77\n",
            "나사,174,56\n",
            "마차,158,72\n",
            "파파,147,62\n",
            "파가,176,42\n",
            "타카,140,43\n",
            "하하,142,44\n",
            "아사,155,55\n",
            "타차,158,62\n",
            "파차,149,99\n",
            "차하,180,95\n",
            "아아,162,85\n",
            "바카,149,48\n",
            "바마,159,52\n",
            "다자,169,64\n",
            "타차,192,74\n",
            "마파,183,60\n",
            "타사,183,77\n",
            "자타,171,44\n",
            "차마,188,69\n",
            "라라,195,46\n",
            "하사,141,89\n",
            "나하,198,92\n",
            "마바,169,82\n",
            "아나,187,92\n",
            "카자,195,47\n",
            "카파,187,50\n",
            "카사,143,95\n",
            "가차,191,56\n",
            "카나,196,96\n",
            "파나,147,66\n",
            "사가,167,87\n",
            "카다,147,58\n",
            "라차,142,86\n",
            "타파,151,99\n",
            "아파,192,84\n",
            "나바,177,86\n",
            "사마,177,76\n",
            "사차,180,81\n",
            "아카,196,83\n",
            "나카,197,88\n",
            "다가,178,54\n",
            "하차,187,56\n",
            "아차,184,59\n",
            "사하,140,80\n",
            "마타,141,50\n",
            "카라,175,43\n",
            "나가,194,42\n",
            "나아,199,53\n",
            "카타,140,73\n",
            "마가,160,70\n",
            "차하,190,55\n",
            "카타,188,40\n",
            "바라,193,53\n",
            "마자,175,55\n",
            "다하,167,49\n",
            "아마,182,99\n",
            "하차,185,90\n",
            "다아,170,63\n",
            "아사,142,48\n",
            "나다,169,67\n",
            "타자,159,44\n",
            "다라,189,77\n",
            "아바,194,72\n",
            "가카,196,57\n",
            "타라,146,40\n",
            "라차,167,79\n",
            "파파,163,70\n",
            "자타,146,95\n",
            "차파,179,61\n",
            "라가,182,96\n",
            "차마,194,76\n",
            "마자,144,62\n",
            "사아,195,66\n",
            "파차,165,74\n",
            "라아,162,88\n",
            "타아,183,56\n",
            "나마,163,49\n",
            "다하,199,41\n",
            "다파,158,48\n",
            "가타,147,53\n",
            "가파,159,46\n",
            "아라,143,79\n",
            "사바,167,87\n",
            "아가,148,89\n",
            "타카,168,69\n",
            "다가,177,80\n",
            "파다,194,50\n",
            "사바,199,89\n",
            "마파,197,92\n",
            "마하,169,75\n",
            "아사,190,68\n",
            "타차,157,94\n",
            "카자,162,52\n",
            "다자,196,82\n",
            "파파,177,53\n",
            "파라,166,86\n",
            "라카,154,88\n",
            "타자,157,94\n",
            "자사,188,51\n",
            "자나,173,95\n",
            "다다,156,84\n",
            "가차,153,76\n",
            "다마,186,93\n",
            "자라,197,70\n",
            "라라,179,94\n",
            "차아,199,68\n",
            "타사,144,96\n",
            "다라,142,81\n",
            "라자,140,83\n",
            "아다,197,42\n",
            "라마,188,49\n",
            "다사,179,42\n",
            "하라,151,68\n",
            "카아,151,52\n",
            "바아,185,43\n",
            "카나,187,78\n",
            "카타,146,67\n",
            "파타,163,84\n",
            "자사,189,79\n",
            "타바,198,78\n",
            "라마,198,84\n",
            "다자,198,69\n",
            "나마,192,62\n",
            "가마,196,68\n",
            "나하,189,60\n",
            "아라,181,90\n",
            "라나,190,63\n",
            "라하,184,53\n",
            "차다,182,44\n",
            "사카,159,71\n",
            "사파,195,99\n",
            "카파,198,71\n",
            "나카,140,42\n",
            "다나,178,81\n",
            "자마,171,49\n",
            "나카,147,87\n",
            "차라,146,93\n",
            "가자,157,78\n",
            "라다,183,41\n",
            "자마,195,57\n",
            "사자,176,81\n",
            "가바,141,84\n",
            "다아,144,54\n",
            "다바,164,67\n",
            "마타,164,42\n",
            "마하,154,95\n",
            "하사,160,86\n",
            "나바,175,76\n",
            "차하,195,53\n",
            "다타,148,73\n",
            "라아,180,90\n",
            "가나,171,87\n",
            "라다,168,78\n",
            "바차,189,78\n",
            "마하,140,41\n",
            "아마,193,76\n",
            "라차,160,64\n",
            "바자,198,55\n",
            "하나,174,60\n",
            "사타,140,79\n",
            "라나,153,42\n",
            "하사,168,73\n",
            "타다,187,57\n",
            "자아,196,68\n",
            "마하,149,69\n",
            "파나,148,82\n",
            "하카,172,80\n",
            "가사,162,60\n",
            "바다,155,65\n",
            "다나,184,83\n",
            "나차,179,75\n",
            "바사,196,83\n",
            "사차,157,67\n",
            "바타,170,77\n",
            "카나,170,46\n",
            "가마,145,66\n",
            "마타,176,61\n",
            "가타,153,79\n",
            "다자,145,81\n",
            "바마,184,87\n",
            "자나,190,89\n",
            "타가,169,84\n",
            "라라,145,73\n",
            "자나,176,79\n",
            "바나,194,71\n",
            "라파,170,74\n",
            "자타,186,93\n",
            "사사,191,55\n",
            "사카,195,40\n",
            "자아,157,40\n",
            "마나,155,42\n",
            "아다,144,41\n",
            "나바,145,84\n",
            "가자,181,71\n",
            "마타,157,88\n",
            "다사,154,98\n",
            "차자,144,88\n",
            "나아,151,99\n",
            "하하,172,46\n",
            "가나,192,51\n",
            "마하,190,75\n",
            "하마,164,66\n",
            "타나,150,84\n",
            "사마,198,66\n",
            "타다,168,43\n",
            "타다,193,73\n",
            "마마,146,47\n",
            "아바,156,69\n",
            "사가,145,86\n",
            "나타,156,58\n",
            "마자,146,47\n",
            "마카,155,84\n",
            "바차,160,56\n",
            "차타,161,76\n",
            "사라,152,78\n",
            "파가,189,43\n",
            "파아,180,64\n",
            "가카,163,66\n",
            "파하,140,67\n",
            "카바,191,47\n",
            "자차,156,83\n",
            "나타,155,50\n",
            "파아,175,77\n",
            "파카,152,83\n",
            "파라,175,95\n",
            "라자,154,75\n",
            "사자,192,48\n",
            "다파,194,77\n",
            "자차,195,80\n",
            "차타,157,79\n",
            "하나,178,73\n",
            "라라,140,63\n",
            "사다,146,87\n",
            "가파,147,65\n",
            "타타,178,53\n",
            "카아,179,77\n",
            "아라,199,50\n",
            "자차,160,52\n",
            "파나,159,81\n",
            "가타,170,56\n",
            "바사,151,91\n",
            "마나,162,58\n",
            "다아,158,55\n",
            "아파,174,47\n",
            "파바,166,70\n",
            "차가,159,89\n",
            "자타,146,49\n",
            "바사,183,82\n",
            "나파,166,72\n",
            "사가,187,75\n",
            "타타,184,41\n",
            "타하,182,53\n",
            "나사,174,62\n",
            "파바,142,78\n",
            "하사,145,40\n",
            "카가,168,69\n",
            "마라,188,47\n",
            "카다,152,53\n",
            "마자,176,60\n",
            "바마,164,99\n",
            "나아,164,76\n",
            "차마,177,89\n",
            "마하,162,69\n",
            "파마,166,40\n",
            "아가,189,85\n",
            "사타,167,64\n",
            "차가,168,55\n",
            "타라,166,72\n",
            "가마,188,72\n",
            "다하,143,69\n",
            "파자,140,99\n",
            "사타,160,95\n",
            "하하,155,53\n",
            "하타,169,46\n",
            "라자,153,72\n",
            "자사,149,42\n",
            "다아,171,74\n",
            "가가,193,40\n",
            "하자,150,98\n",
            "가카,159,58\n",
            "파사,190,51\n",
            "차차,185,46\n",
            "자사,176,85\n",
            "차자,145,54\n",
            "마타,165,54\n",
            "타마,147,56\n",
            "바마,163,89\n",
            "바자,151,52\n",
            "사하,146,71\n",
            "라차,197,75\n",
            "나다,192,93\n",
            "아라,194,47\n",
            "나라,192,95\n",
            "차바,149,86\n",
            "바가,140,57\n",
            "라차,185,66\n",
            "사다,158,40\n",
            "바타,171,59\n",
            "하파,184,65\n",
            "카차,177,74\n",
            "하카,150,60\n",
            "아하,161,45\n",
            "나차,154,50\n",
            "라아,150,96\n",
            "카파,195,41\n",
            "마하,161,79\n",
            "라카,176,40\n",
            "하가,146,59\n",
            "카다,199,84\n",
            "하나,194,80\n",
            "자나,161,74\n",
            "바사,145,65\n",
            "가차,194,42\n",
            "차차,144,47\n",
            "사하,170,88\n",
            "하하,163,70\n",
            "라타,168,88\n",
            "나바,155,65\n",
            "가하,162,88\n",
            "자다,197,47\n",
            "나사,159,66\n",
            "다하,185,46\n",
            "카라,145,48\n",
            "아타,172,49\n",
            "마타,173,75\n",
            "마타,175,91\n",
            "사파,195,46\n",
            "다다,184,59\n",
            "카사,165,74\n",
            "아차,157,95\n",
            "카차,193,92\n",
            "사가,183,90\n",
            "라타,184,57\n",
            "파하,142,87\n",
            "차다,152,70\n",
            "다아,182,60\n",
            "마다,176,44\n",
            "차타,157,49\n",
            "차타,181,64\n",
            "사차,151,83\n",
            "카라,167,98\n",
            "사카,170,46\n",
            "카가,172,78\n",
            "라사,184,73\n",
            "자파,175,88\n",
            "사아,140,92\n",
            "라바,147,68\n",
            "자라,191,83\n",
            "타사,186,51\n",
            "가카,165,89\n",
            "파하,199,85\n",
            "타사,167,61\n",
            "아차,197,79\n",
            "하카,166,99\n",
            "자차,166,90\n",
            "타다,148,40\n",
            "바다,150,72\n",
            "라자,174,89\n",
            "자바,187,43\n",
            "나라,164,73\n",
            "자다,162,98\n",
            "나카,181,48\n",
            "바가,198,44\n",
            "다라,173,63\n",
            "사타,151,41\n",
            "카차,196,95\n",
            "카나,163,58\n",
            "바마,196,76\n",
            "마바,145,85\n",
            "나타,194,93\n",
            "마파,195,83\n",
            "\n"
          ]
        }
      ]
    }
  ]
}