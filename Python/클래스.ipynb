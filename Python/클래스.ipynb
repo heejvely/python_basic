{
  "nbformat": 4,
  "nbformat_minor": 0,
  "metadata": {
    "colab": {
      "name": "클래스.ipynb",
      "provenance": [],
      "collapsed_sections": [],
      "authorship_tag": "ABX9TyP6dMl1Rt2O+rkHfWSwba8B",
      "include_colab_link": true
    },
    "kernelspec": {
      "name": "python3",
      "display_name": "Python 3"
    },
    "language_info": {
      "name": "python"
    }
  },
  "cells": [
    {
      "cell_type": "markdown",
      "metadata": {
        "id": "view-in-github",
        "colab_type": "text"
      },
      "source": [
        "<a href=\"https://colab.research.google.com/github/heejvely/python_basic/blob/main/%ED%81%B4%EB%9E%98%EC%8A%A4.ipynb\" target=\"_parent\"><img src=\"https://colab.research.google.com/assets/colab-badge.svg\" alt=\"Open In Colab\"/></a>"
      ]
    },
    {
      "cell_type": "code",
      "execution_count": 3,
      "metadata": {
        "colab": {
          "base_uri": "https://localhost:8080/"
        },
        "id": "3QSieVOSXo8t",
        "outputId": "3e524e1c-2c4a-4682-d65a-06d2e110e187"
      },
      "outputs": [
        {
          "output_type": "stream",
          "name": "stdout",
          "text": [
            "안녕하세요\n",
            "안녕하세요\n"
          ]
        }
      ],
      "source": [
        "# 클래스 멤버, 클래스 메소드\n",
        "# 클래스 구성하는 주요 요소는 멤버(변수)와 메소드(함수)로 클래스 공간 내에서 정의\n",
        "# 클래스 메소드는 첫번째 인자가 반드시 self로 시작\n",
        "# self는 이 클래스의 인스턴스 객체를 가리키는 참고자\n",
        "# 인스턴스 객체에서 클래스 메소드를 호출 시 첫번째 인자인 self 생략\n",
        "\n",
        "class MyClass:\n",
        "  var = '안녕하세요' # 클래스 멤버\n",
        "  def sayHello(self): # 클래스 메소드\n",
        "    return self.var\n",
        "\n",
        "obj = MyClass() # 클래스에 있는 모든 자원을 이용할 수 있는 능력 부여 받음 (객체 지정)\n",
        "\n",
        "print(obj.var)\n",
        "print(obj.sayHello())"
      ]
    },
    {
      "cell_type": "code",
      "source": [
        "# 클래스 멤버와 인스턴스 멤버\n",
        "# 클래스 멤버는 클래스 메소드 바깥에서 선언되고 인스턴스 멤버는 클래스 메소드 안에서 self와 함께 선언\n",
        "\n",
        "class MyClass:\n",
        "  var = '안녕하세요' # 클래스 멤버\n",
        "  def sayHello(self): # 클래스 변수\n",
        "    param1 = '안녕' # 지역 변수\n",
        "    self.param2 = 'Hi' # 인스턴스 멤버 만드시 객체와 함께 사용되어야 함.\n",
        "    print(param1)\n",
        "    print(self.var)\n",
        "\n",
        "obj = MyClass()\n",
        "print(obj.var)\n",
        "obj.sayHello()\n",
        "print(obj.param2)"
      ],
      "metadata": {
        "colab": {
          "base_uri": "https://localhost:8080/"
        },
        "id": "oiqdJwMSYDcQ",
        "outputId": "c669c42c-cc5a-497f-8c34-d514ff49386c"
      },
      "execution_count": 5,
      "outputs": [
        {
          "output_type": "stream",
          "name": "stdout",
          "text": [
            "안녕하세요\n",
            "안녕\n",
            "안녕하세요\n",
            "Hi\n"
          ]
        }
      ]
    },
    {
      "cell_type": "code",
      "source": [
        "# 클래스 메소드\n",
        "# 클래스 냉에서 정의되는 클래스 메소드는 첫번째 인자가 반드시 self여야 한다.\n",
        "\n",
        "class MyClass:\n",
        "  def sayHello(self):\n",
        "    print('안녕하세요')\n",
        "  def sayBye(self,name):\n",
        "    print(f'{name}! 다음에 또 보자.')\n",
        "\n",
        "obj = MyClass()\n",
        "obj.sayHello()\n",
        "obj.sayBye('희진')"
      ],
      "metadata": {
        "colab": {
          "base_uri": "https://localhost:8080/"
        },
        "id": "gFWP6KtLYj4o",
        "outputId": "d0e6e6bb-0165-48cb-cc9c-58b65dc29ba4"
      },
      "execution_count": 7,
      "outputs": [
        {
          "output_type": "stream",
          "name": "stdout",
          "text": [
            "안녕하세요\n",
            "희진! 다음에 또 보자.\n"
          ]
        }
      ]
    },
    {
      "cell_type": "code",
      "source": [
        "# 클래스 생성자(인자가 없는 경우)\n",
        "# 클래스의 인스턴스 객체가 생성될 때 자동적으로 호출되는 메소드\n",
        "\n",
        "class MyClass:\n",
        "  def __init__(self):\n",
        "    self.var = '안녕하세요' # 인스턴스 멤버\n",
        "    print('MyClass 인스턴스 객체가 생성되었습니다.')\n",
        "\n",
        "obj = MyClass()\n",
        "print(obj.var)"
      ],
      "metadata": {
        "colab": {
          "base_uri": "https://localhost:8080/"
        },
        "id": "c9nZgocGY8i2",
        "outputId": "7fff5a5d-3063-47e0-bec4-746e5e03d62e"
      },
      "execution_count": 8,
      "outputs": [
        {
          "output_type": "stream",
          "name": "stdout",
          "text": [
            "MyClass 인스턴스 객체가 생성되었습니다.\n",
            "안녕하세요\n"
          ]
        }
      ]
    },
    {
      "cell_type": "code",
      "source": [
        "# 클래스 생성자(인자가 있는 경우)\n",
        "\n",
        "class MyClass:\n",
        "  def __init__(self, txt):\n",
        "    self.var = txt\n",
        "    print(f'생성자 인자로 전달받은 값은 <{self.var}>입니다.')\n",
        "\n",
        "obj = MyClass('희진')\n",
        "print(obj.var)"
      ],
      "metadata": {
        "colab": {
          "base_uri": "https://localhost:8080/"
        },
        "id": "M-Zq-xEcZQcl",
        "outputId": "39d73283-3920-4886-8d05-942c9c368dbf"
      },
      "execution_count": 9,
      "outputs": [
        {
          "output_type": "stream",
          "name": "stdout",
          "text": [
            "생성자 인자로 전달받은 값은 <희진>입니다.\n",
            "희진\n"
          ]
        }
      ]
    },
    {
      "cell_type": "code",
      "source": [
        "# 클래스 소멸자\n",
        "# 클래스 인스턴스 객체가 메모리에서 제거될 때 자동으로 호출되는 클래스 메소드\n",
        "\n",
        "class MyClass:\n",
        "  def __del__(self):\n",
        "    print('MyClass 인스턴스 객체가 메모리에서 제거됩니다.')\n",
        "\n",
        "obj = MyClass()\n",
        "del obj"
      ],
      "metadata": {
        "colab": {
          "base_uri": "https://localhost:8080/"
        },
        "id": "wqWXDcTEZhD5",
        "outputId": "ce6390f7-d458-4ae4-f0a7-285ee30b08d7"
      },
      "execution_count": 11,
      "outputs": [
        {
          "output_type": "stream",
          "name": "stdout",
          "text": [
            "MyClass 인스턴스 객체가 메모리에서 제거됩니다.\n"
          ]
        }
      ]
    },
    {
      "cell_type": "markdown",
      "source": [
        "- 클래스 상속 : class 자식클래스(부모클래스)\n",
        "- 어떤 클래스(부모)가 가지고 있는 모든 멤버나 메소드를 상속 받는 클래스(자식)가 모두 사용할 수 있도록 해주는 것\n",
        "- 자식 클래스는 여러 부모 클래스로 부터 상속받을 수 있으며 다중상속이라 함\n",
        "- class 자식클래스(부모클래스1, 부모클래스2,.......)\n"
      ],
      "metadata": {
        "id": "BgSfo0MzZy7S"
      }
    },
    {
      "cell_type": "code",
      "source": [
        "# 더하기 (Sum), 곱하기(Mul) 클래스를 작성하고 상속을 받은 자식 클래스 Cal을 작성하여 덧셈, 곱셈과 뺄셈 을 수행하세요.\n",
        "class Sum:\n",
        "  def plus(self, *num):\n",
        "    sum = 0\n",
        "    for i in num:\n",
        "      sum += i\n",
        "    return sum\n",
        "class Mul:\n",
        "  def multy(self, *num):\n",
        "    sum = 1\n",
        "    for i in num:\n",
        "      sum *= i\n",
        "    return sum\n",
        "\n",
        "class Cal(Sum, Mul):\n",
        "  def minus(self, a, *num):\n",
        "    sum = a\n",
        "    for i in num:\n",
        "      sum -= i\n",
        "    return sum\n",
        "\n",
        "\n",
        "obj = Cal()\n",
        "\n",
        "print(obj.plus(1,2,3,4))\n",
        "print(obj.multy(3,5,6,8))\n",
        "print(obj.minus(38,5,3,2))"
      ],
      "metadata": {
        "colab": {
          "base_uri": "https://localhost:8080/"
        },
        "id": "KwSZC8ClZvQ0",
        "outputId": "c040be68-5d53-4772-8594-e3f26c42195f"
      },
      "execution_count": 13,
      "outputs": [
        {
          "output_type": "stream",
          "name": "stdout",
          "text": [
            "10\n",
            "720\n",
            "28\n"
          ]
        }
      ]
    },
    {
      "cell_type": "code",
      "source": [
        "# 클래스 MyClass를 작성하고 객체를 생성하여 아래와 같이 출력하세요.(생성자 사용)\n",
        "# kevin, 안녕하세요.\n",
        "# kecin 다음에 보자.\n",
        "\n",
        "class MyClass:\n",
        "  def __init__(self, name):\n",
        "    self.name = name\n",
        "\n",
        "  def hello(self):\n",
        "    print(f'{self.name}, 안녕하세요')\n",
        "\n",
        "  def bye(self):\n",
        "    print(f'{self.name}, 다음에 보자.')\n",
        "\n",
        "obj = MyClass('kevin')\n",
        "obj.hello()\n",
        "obj.bye()"
      ],
      "metadata": {
        "colab": {
          "base_uri": "https://localhost:8080/"
        },
        "id": "z8-o2aQ5aler",
        "outputId": "e8190585-6a76-4604-908f-e51f39483427"
      },
      "execution_count": 16,
      "outputs": [
        {
          "output_type": "stream",
          "name": "stdout",
          "text": [
            "kevin, 안녕하세요\n",
            "kevin, 다음에 보자.\n"
          ]
        }
      ]
    },
    {
      "cell_type": "code",
      "source": [
        "# 사용자 함수를 작성하여 기본가격 1000원에 입력 받은 값을 추가한 가격을 산출하세요. (지역변수, 전역변수 2가지 방법)\n",
        "\n",
        "price = int(input('가격을 입력하세요: '))\n",
        "\n",
        "def add_price(price):\n",
        "  a = 1000\n",
        "  a += price\n",
        "  return a\n",
        "\n",
        "print(f'가격: {add_price(price)}원')"
      ],
      "metadata": {
        "colab": {
          "base_uri": "https://localhost:8080/"
        },
        "id": "Ii4QQ6xSa_By",
        "outputId": "7c5f3b87-5dfd-4813-b8de-eb566c2b6108"
      },
      "execution_count": 17,
      "outputs": [
        {
          "output_type": "stream",
          "name": "stdout",
          "text": [
            "가격을 입력하세요: 25600\n",
            "가격: 26600원\n"
          ]
        }
      ]
    },
    {
      "cell_type": "code",
      "source": [
        "a = 1000\n",
        "\n",
        "def price():\n",
        "  global a\n",
        "  p = int(input('가격을 입력하세요: '))\n",
        "  a += p\n",
        "  return a\n",
        "\n",
        "print(f'가격 {price()}원')"
      ],
      "metadata": {
        "colab": {
          "base_uri": "https://localhost:8080/"
        },
        "id": "sq2apDfxbfUk",
        "outputId": "dab1b70d-605d-4df3-e826-f5d156a44858"
      },
      "execution_count": 18,
      "outputs": [
        {
          "output_type": "stream",
          "name": "stdout",
          "text": [
            "가격을 입력하세요: 38500\n",
            "가격 39500원\n"
          ]
        }
      ]
    }
  ]
}
