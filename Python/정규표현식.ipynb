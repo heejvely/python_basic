{
  "nbformat": 4,
  "nbformat_minor": 0,
  "metadata": {
    "colab": {
      "name": "정규표현식.ipynb",
      "provenance": [],
      "authorship_tag": "ABX9TyPAUylAMM0Jj96Z2mWWA3xH",
      "include_colab_link": true
    },
    "kernelspec": {
      "name": "python3",
      "display_name": "Python 3"
    },
    "language_info": {
      "name": "python"
    }
  },
  "cells": [
    {
      "cell_type": "markdown",
      "metadata": {
        "id": "view-in-github",
        "colab_type": "text"
      },
      "source": [
        "<a href=\"https://colab.research.google.com/github/heejvely/python_basic/blob/main/%EC%A0%95%EA%B7%9C%ED%91%9C%ED%98%84%EC%8B%9D.ipynb\" target=\"_parent\"><img src=\"https://colab.research.google.com/assets/colab-badge.svg\" alt=\"Open In Colab\"/></a>"
      ]
    },
    {
      "cell_type": "markdown",
      "source": [
        "정규표현식의 기초, 메타 문자\n",
        "- . ^ $ * + ? {} [] \\ | ()\n",
        "- [] 문자 클래스\n",
        " - \\d 숫자와 매치, [0-9]와 동일한 표현식\n",
        " - \\D 숫자가 아닌 것과 매치, [^0-9]와 동일한 표현식\n",
        " - \\s whitespace 문자와 매치, [ \\t\\n\\r\\f\\v]와 동일한 표현식\n",
        " - \\S whitespace 문자가 아닌 것과 매치, [^ \\t\\n\\r\\f\\v]와 동일한 표현식\n",
        " - \\w 문자 + 숫자와 매치, [a-zA-Z0-9]와 동일한 표현식\n",
        " - \\W 문자 + 숫자가 아닌 문자와 매치, [^a-zA-Z0-9]와 동일한 표현식\n",
        "- whitespace\n",
        " -  스페이스 바 (아스키코드 32)\n",
        " -  ＼b  뒤로 한 칸 이동 (Backspace) (아스키코드 8)\n",
        " -  ＼t  수평탭 간격 띄우기 (아스키코드 9)\n",
        " -  ＼n  줄바꿈 (Linefeed) (아스키코드 10)\n",
        " -  ＼v  수직탭 간격 띄우기 (아스키코드 11)\n",
        " -  ＼f  프린트 출력 용지를 한 페이지 넘김 (Form feed) (아스키코드 12)\n",
        " -  ＼r  동일한 줄의 맨 앞으로 커서 이동 (Carriage Return) (아스키코드 13)\n",
        "- Dot(.) 메타 문자는 줄바꿈 문자인 \\n를 제외한 모든 문자와 매치됨을 의미\n",
        "- 반복(\\*) ca*t 0부터 무한대로 반복\n",
        "- 반복(\\+) ca+t 최소 1번 이상 반복\n",
        "- 반복({m,n}, ?) 반복 횟수를 제한, 반복 횟수가 m부터 n까지인 것을 매치\n",
        "- ca{2}t는 c+a(2번 반복)+t의 의미\n",
        "- 반복횟수가 {1,}은 1 이상, {0,}은 0 이상인 경우로 각각 +, *와 동일하며 {,1}은 반복횟수가 1 이하를 의미.\n",
        "- ab?c b가 0~1번 사용되면 매치되는 것으로 ?은 앞의 b가 있어도 되고 없어도 된다 \n",
        "\n",
        "re 모듈 : 파이썬은 정규표현식을 지원하기 위해 기본으로 제공\n",
        "- re.compile의 결과로 리턴되는 객체를 이용하여 그 이후 작업 수행\n",
        "\n",
        "정규식을 이용한 문자열 검색\n",
        "- match(): 문자열의 처음부터 정규식과 매치되는지 조사\n",
        "- search(): 문자열의 전체를 검색하여 정규식과 매치되는지 조사\n",
        "- findall(): 정규식과 매치되는 모든 문자열을 리스트로 리턴\n",
        "- finditer(): 정규식과 매치되는 모든 문자열을 반복 가능한 객체로 리턴"
      ],
      "metadata": {
        "id": "rUWpXJMIcnQQ"
      }
    },
    {
      "cell_type": "code",
      "execution_count": 1,
      "metadata": {
        "colab": {
          "base_uri": "https://localhost:8080/"
        },
        "id": "lYhCtB9dcN7c",
        "outputId": "f4eac96d-9b86-41ca-862e-49cec21ecb04"
      },
      "outputs": [
        {
          "output_type": "execute_result",
          "data": {
            "text/plain": [
              "<re.Match object; span=(0, 7), match='python '>"
            ]
          },
          "metadata": {},
          "execution_count": 1
        }
      ],
      "source": [
        "import re\n",
        "\n",
        "p = re.compile('[a-z]+\\s')\n",
        "m = p.match('python python')\n",
        "m"
      ]
    },
    {
      "cell_type": "code",
      "source": [
        "p.findall('python python ')"
      ],
      "metadata": {
        "colab": {
          "base_uri": "https://localhost:8080/"
        },
        "id": "F4Nj4GbSc06w",
        "outputId": "9c977d23-1069-40cb-eb00-e3da2ff9ebd8"
      },
      "execution_count": 3,
      "outputs": [
        {
          "output_type": "execute_result",
          "data": {
            "text/plain": [
              "['python ', 'python ']"
            ]
          },
          "metadata": {},
          "execution_count": 3
        }
      ]
    },
    {
      "cell_type": "code",
      "source": [
        "p.findall('python python')"
      ],
      "metadata": {
        "colab": {
          "base_uri": "https://localhost:8080/"
        },
        "id": "0cwrJQC0c4tI",
        "outputId": "c0cba1f0-3bcf-4996-fe4b-7874d97c186b"
      },
      "execution_count": 4,
      "outputs": [
        {
          "output_type": "execute_result",
          "data": {
            "text/plain": [
              "['python ']"
            ]
          },
          "metadata": {},
          "execution_count": 4
        }
      ]
    },
    {
      "cell_type": "code",
      "source": [
        "m = p.match('3python ')\n",
        "print(m)"
      ],
      "metadata": {
        "colab": {
          "base_uri": "https://localhost:8080/"
        },
        "id": "hx7m5gFHc-Q6",
        "outputId": "3b905236-20ed-4b85-f734-ea4e5b4912cc"
      },
      "execution_count": 6,
      "outputs": [
        {
          "output_type": "stream",
          "name": "stdout",
          "text": [
            "None\n"
          ]
        }
      ]
    },
    {
      "cell_type": "code",
      "source": [
        "m = p.search('3python ')\n",
        "print(m)"
      ],
      "metadata": {
        "colab": {
          "base_uri": "https://localhost:8080/"
        },
        "id": "0w1rRtM4dBCj",
        "outputId": "94b05f5e-d154-4b71-9209-b26dec29818c"
      },
      "execution_count": 7,
      "outputs": [
        {
          "output_type": "stream",
          "name": "stdout",
          "text": [
            "<re.Match object; span=(1, 8), match='python '>\n"
          ]
        }
      ]
    },
    {
      "cell_type": "code",
      "source": [
        "# 문자 클래스: []\n",
        "pattern = re.compile('[a-z]+')\n",
        "p1 = pattern.search('Banker')\n",
        "p2 = pattern.search('banker')\n",
        "print(p1)\n",
        "print(p2)"
      ],
      "metadata": {
        "colab": {
          "base_uri": "https://localhost:8080/"
        },
        "id": "PSKMqAS8dIMw",
        "outputId": "3eca0627-550b-4b11-f3a2-d33d54adc9c7"
      },
      "execution_count": 8,
      "outputs": [
        {
          "output_type": "stream",
          "name": "stdout",
          "text": [
            "<re.Match object; span=(1, 6), match='anker'>\n",
            "<re.Match object; span=(0, 6), match='banker'>\n"
          ]
        }
      ]
    },
    {
      "cell_type": "code",
      "source": [
        "# Q. '12345abc'에서 'a'만 출력하세요\n",
        "\n",
        "import re\n",
        "\n",
        "p = re.compile('[a-z]')\n",
        "m = p.search('12345abc')\n",
        "print(m.group()) # group -> 전체의 일치부를 찾아서 반환"
      ],
      "metadata": {
        "colab": {
          "base_uri": "https://localhost:8080/"
        },
        "id": "Xr3AfeCkdSwo",
        "outputId": "439b0698-27e8-434d-d8e4-5f72584f6fbf"
      },
      "execution_count": 12,
      "outputs": [
        {
          "output_type": "stream",
          "name": "stdout",
          "text": [
            "a\n"
          ]
        }
      ]
    },
    {
      "cell_type": "code",
      "source": [
        "# Q. 'abc12345Abc'에서 'A'만 출력하세요.\n",
        "\n",
        "import re\n",
        "\n",
        "p = re.compile('[A-Z]')\n",
        "m = p.search('abc12345Abc')\n",
        "print(m.group())"
      ],
      "metadata": {
        "colab": {
          "base_uri": "https://localhost:8080/"
        },
        "id": "-IyQcsP3dd5H",
        "outputId": "e03dbb21-f441-4955-8157-e0e67187b090"
      },
      "execution_count": 16,
      "outputs": [
        {
          "output_type": "stream",
          "name": "stdout",
          "text": [
            "A\n"
          ]
        }
      ]
    },
    {
      "cell_type": "code",
      "source": [
        "# Q. 'KOREA 대한민국'에서 '대'만 출력하세요.\n",
        "\n",
        "import re\n",
        "\n",
        "p = re.compile('\\s+[가-힣]')\n",
        "m = p.search('KOREA 대한민국')\n",
        "print(m.group())"
      ],
      "metadata": {
        "colab": {
          "base_uri": "https://localhost:8080/"
        },
        "id": "qbXEarBbeSWf",
        "outputId": "8651cf30-3464-45f1-9bce-a8e5c1a5a3f1"
      },
      "execution_count": 17,
      "outputs": [
        {
          "output_type": "stream",
          "name": "stdout",
          "text": [
            " 대\n"
          ]
        }
      ]
    },
    {
      "cell_type": "code",
      "source": [
        "# search는 문자열 전체를 검색하여 정규식과 매칭되는 패턴을 찾는다.\n",
        "# Q. '122333c'를 모두 출력하세요.\n",
        "\n",
        "import re\n",
        "\n",
        "p = re.compile('[0-9]+[a-z]')\n",
        "m = p.search('122333c')\n",
        "print(m.group())"
      ],
      "metadata": {
        "colab": {
          "base_uri": "https://localhost:8080/"
        },
        "id": "sMSz0YVLfA-L",
        "outputId": "4ff4b003-ac38-4443-cecf-1962663663fc"
      },
      "execution_count": 20,
      "outputs": [
        {
          "output_type": "stream",
          "name": "stdout",
          "text": [
            "122333c\n"
          ]
        }
      ]
    },
    {
      "cell_type": "code",
      "source": [
        "# Q. 'aaaaBBBcccDDDeee'을 모두 출력하세요.\n",
        "\n",
        "import re\n",
        "\n",
        "p = re.compile('[a-zA-Z]+')\n",
        "m = p.search('aaaaBBBcccDDDeee')\n",
        "print(m.group())"
      ],
      "metadata": {
        "colab": {
          "base_uri": "https://localhost:8080/"
        },
        "id": "IcxFhzyFfWhi",
        "outputId": "330174d5-b69f-4909-a0aa-7b37e5036243"
      },
      "execution_count": 21,
      "outputs": [
        {
          "output_type": "stream",
          "name": "stdout",
          "text": [
            "aaaaBBBcccDDDeee\n"
          ]
        }
      ]
    },
    {
      "cell_type": "code",
      "source": [
        "# Q. BC, CC, ABC 모두 C가 출력되는 정규 표현식을 ( )에 작성하세요.\n",
        "pattern = re.compile('A?C')\n",
        "text1 = 'BC'\n",
        "text2 = 'CC'\n",
        "text3 = 'ABC'\n",
        "p1 = pattern.search(text1)\n",
        "p2 = pattern.search(text2)\n",
        "p3 = pattern.search(text3)\n",
        "print(p1)\n",
        "print(p2)\n",
        "print(p3)"
      ],
      "metadata": {
        "colab": {
          "base_uri": "https://localhost:8080/"
        },
        "id": "vdfLLNXbfttF",
        "outputId": "202268ab-5bbe-4404-e5a4-05f74de73c58"
      },
      "execution_count": 23,
      "outputs": [
        {
          "output_type": "stream",
          "name": "stdout",
          "text": [
            "<re.Match object; span=(1, 2), match='C'>\n",
            "<re.Match object; span=(0, 1), match='C'>\n",
            "<re.Match object; span=(2, 3), match='C'>\n"
          ]
        }
      ]
    },
    {
      "cell_type": "code",
      "source": [
        "result = p.findall('life is too short')\n",
        "print(result)"
      ],
      "metadata": {
        "colab": {
          "base_uri": "https://localhost:8080/"
        },
        "id": "23EM-EXUf1ft",
        "outputId": "ea4e31e6-573e-48b0-a602-369ac692123b"
      },
      "execution_count": 24,
      "outputs": [
        {
          "output_type": "stream",
          "name": "stdout",
          "text": [
            "['life', 'is', 'too', 'short']\n"
          ]
        }
      ]
    },
    {
      "cell_type": "code",
      "source": [
        "# finditer는 findall과 동일하지만 그 결과로 반복 가능한 객체(iterator object)를 돌려준다.\n",
        "# 반복 가능한 객체가 포함하는 각각의 요소는 match 객체이다.\n",
        "\n",
        "result = p.finditer('life is too short')\n",
        "\n",
        "for r in result:print(r.group())"
      ],
      "metadata": {
        "colab": {
          "base_uri": "https://localhost:8080/"
        },
        "id": "CML3IcScgBt3",
        "outputId": "0dc2e578-4972-499c-e42f-5ac15fa88952"
      },
      "execution_count": 25,
      "outputs": [
        {
          "output_type": "stream",
          "name": "stdout",
          "text": [
            "life\n",
            "is\n",
            "too\n",
            "short\n"
          ]
        }
      ]
    },
    {
      "cell_type": "code",
      "source": [
        "# Q. '1234a1234'에서  '1', '2', '3', '4'를 모두 출력하세요.\n",
        "\n",
        "import re\n",
        "\n",
        "p = re.compile('[0-9]')\n",
        "m = p.findall('1234a1234')\n",
        "\n",
        "print(m)"
      ],
      "metadata": {
        "colab": {
          "base_uri": "https://localhost:8080/"
        },
        "id": "nfvfG-DygbBp",
        "outputId": "886bae08-e938-4892-ebca-28f9e7fd31f8"
      },
      "execution_count": 27,
      "outputs": [
        {
          "output_type": "stream",
          "name": "stdout",
          "text": [
            "['1', '2', '3', '4', '1', '2', '3', '4']\n"
          ]
        }
      ]
    },
    {
      "cell_type": "code",
      "source": [
        "# Q. ' Python3 is very good programming language!'에서  ['Python', 'is', 'very', 'good', 'programming', 'language']를 \n",
        "# 모두 출력하세요.\n",
        "\n",
        "import re\n",
        "\n",
        "p = re.compile('[A-Za-z]+')\n",
        "\n",
        "print(p.findall(' Python3 is very good programming language!'))"
      ],
      "metadata": {
        "colab": {
          "base_uri": "https://localhost:8080/"
        },
        "id": "7-FRs-vegws6",
        "outputId": "017a038a-e14f-4fad-ca5f-c70ecf181f16"
      },
      "execution_count": 28,
      "outputs": [
        {
          "output_type": "stream",
          "name": "stdout",
          "text": [
            "['Python', 'is', 'very', 'good', 'programming', 'language']\n"
          ]
        }
      ]
    },
    {
      "cell_type": "code",
      "source": [
        "# match 객체\n",
        "l = p.match('life ')\n",
        "i = p.match( 'is ' )\n",
        "t = p.match('too ')\n",
        "print(l.group())\n",
        "print(i.group())\n",
        "print(t.group())"
      ],
      "metadata": {
        "colab": {
          "base_uri": "https://localhost:8080/"
        },
        "id": "qi01CM7Ag-bP",
        "outputId": "9cd1217a-c14c-4007-fe99-1273a213540c"
      },
      "execution_count": 29,
      "outputs": [
        {
          "output_type": "stream",
          "name": "stdout",
          "text": [
            "life\n",
            "is\n",
            "too\n"
          ]
        }
      ]
    },
    {
      "cell_type": "code",
      "source": [
        "# match 객체의 메소드\n",
        "\n",
        "import re\n",
        "\n",
        "p = re.compile('[a-z]+')\n",
        "m = p.match('python')\n",
        "print(m.group())\n",
        "print(m.start())\n",
        "print(m.end())\n",
        "print(m.span())"
      ],
      "metadata": {
        "colab": {
          "base_uri": "https://localhost:8080/"
        },
        "id": "t3r9DvxyhEH6",
        "outputId": "86d6756f-f8da-4dc0-c035-4bb66ee397e2"
      },
      "execution_count": 31,
      "outputs": [
        {
          "output_type": "stream",
          "name": "stdout",
          "text": [
            "python\n",
            "0\n",
            "6\n",
            "(0, 6)\n"
          ]
        }
      ]
    },
    {
      "cell_type": "code",
      "source": [
        "m = p.search('3 python')\n",
        "print(m.group())\n",
        "print(m.start())\n",
        "print(m.end())\n",
        "print(m.span())"
      ],
      "metadata": {
        "colab": {
          "base_uri": "https://localhost:8080/"
        },
        "id": "j8aQZRN6hP6V",
        "outputId": "d1130228-9554-4087-a1bd-03f006634071"
      },
      "execution_count": 32,
      "outputs": [
        {
          "output_type": "stream",
          "name": "stdout",
          "text": [
            "python\n",
            "2\n",
            "8\n",
            "(2, 8)\n"
          ]
        }
      ]
    },
    {
      "cell_type": "code",
      "source": [
        "# 모듈 단위로 수행하기\n",
        "m = re.match('[a-z]+', 'python')\n",
        "print(m.group())"
      ],
      "metadata": {
        "colab": {
          "base_uri": "https://localhost:8080/"
        },
        "id": "O98_9s50hVHV",
        "outputId": "85e9a976-8b11-409d-833b-00ae0861b668"
      },
      "execution_count": 33,
      "outputs": [
        {
          "output_type": "stream",
          "name": "stdout",
          "text": [
            "python\n"
          ]
        }
      ]
    },
    {
      "cell_type": "code",
      "source": [
        "# Dot(.) 메타 문자는 줄바꿈 문자(\\n)을 제외한 모든 문자와 매치\n",
        "\n",
        "import re\n",
        "\n",
        "p = re.compile('a.+b')\n",
        "m1 = p.match('a\\nb')\n",
        "m2 = p.match('acb')\n",
        "m3 = p.match('a12?Ab')\n",
        "print(m1)\n",
        "print(m2)\n",
        "print(m3)"
      ],
      "metadata": {
        "colab": {
          "base_uri": "https://localhost:8080/"
        },
        "id": "JxOIGVZKh6-R",
        "outputId": "de3c9227-8f30-4e85-b439-856f191ec003"
      },
      "execution_count": 34,
      "outputs": [
        {
          "output_type": "stream",
          "name": "stdout",
          "text": [
            "None\n",
            "<re.Match object; span=(0, 3), match='acb'>\n",
            "<re.Match object; span=(0, 6), match='a12?Ab'>\n"
          ]
        }
      ]
    },
    {
      "cell_type": "code",
      "source": [
        "# re.DOTALL 옵션은 여러 줄로 이루어진 문자열에서 \\n에 상관없이 검색시 사용\n",
        "p = re.compile('a.b', re.DOTALL)\n",
        "m = p.match('a\\nb')\n",
        "print(m)"
      ],
      "metadata": {
        "colab": {
          "base_uri": "https://localhost:8080/"
        },
        "id": "LJYExpV6iL7m",
        "outputId": "612580c6-cd93-485d-87a5-c0ad2fb9ec80"
      },
      "execution_count": 35,
      "outputs": [
        {
          "output_type": "stream",
          "name": "stdout",
          "text": [
            "<re.Match object; span=(0, 3), match='a\\nb'>\n"
          ]
        }
      ]
    },
    {
      "cell_type": "code",
      "source": [
        "# 줄바꿈 문자의 조작. 일반적으로 . 도트(모든 것) * 별(0개 이상)을 컴파일하면 줄바꿈 문자 \\n 전까지 매치한다. 줄바꿈 문자가 있는 파일의 모든 범위를 매치하려면 compile 메소드에 두번째 매개변수를 re.DOTALL 로 지정한다. \n",
        "\n",
        "# Q. text에서 what are you doing?만 출력하세요 \n",
        "text = 'what are you doing?\\nit is going to be late for school\\nwe need to hurry up'\n",
        "p = re.compile('.*')\n",
        "m = p.match(text)\n",
        "\n",
        "print(m.group())"
      ],
      "metadata": {
        "colab": {
          "base_uri": "https://localhost:8080/"
        },
        "id": "VJLDHb6PiWvp",
        "outputId": "8efa5788-cd88-4b04-f7ed-2c19a88b0744"
      },
      "execution_count": 37,
      "outputs": [
        {
          "output_type": "stream",
          "name": "stdout",
          "text": [
            "what are you doing?\n"
          ]
        }
      ]
    },
    {
      "cell_type": "code",
      "source": [
        "# Q. text에서 전체문장 모두 출력하세요 \n",
        "\n",
        "p = re.compile('.*',re.DOTALL)\n",
        "m = p.match(text)\n",
        "\n",
        "print(m.group())"
      ],
      "metadata": {
        "colab": {
          "base_uri": "https://localhost:8080/"
        },
        "id": "LWfg1ss2ipXq",
        "outputId": "fdb3949a-df8b-4c6f-aa1c-c91a11442ff7"
      },
      "execution_count": 40,
      "outputs": [
        {
          "output_type": "stream",
          "name": "stdout",
          "text": [
            "what are you doing?\n",
            "it is going to be late for school\n",
            "we need to hurry up\n"
          ]
        }
      ]
    },
    {
      "cell_type": "code",
      "source": [
        "# re.IGNORECASE 또는 re.I 옵션은 대소문자 구분 없이 매치를 수행시 사용\n",
        "p = re.compile('[a-z]+',re.I)\n",
        "print(p.match('python'))\n",
        "print(p.match('Python'))\n",
        "print(p.match('PYTHON'))"
      ],
      "metadata": {
        "colab": {
          "base_uri": "https://localhost:8080/"
        },
        "id": "7r2XxFSHi1XK",
        "outputId": "78820939-4743-4a8b-f8a8-e36745f5c837"
      },
      "execution_count": 41,
      "outputs": [
        {
          "output_type": "stream",
          "name": "stdout",
          "text": [
            "<re.Match object; span=(0, 6), match='python'>\n",
            "<re.Match object; span=(0, 6), match='Python'>\n",
            "<re.Match object; span=(0, 6), match='PYTHON'>\n"
          ]
        }
      ]
    },
    {
      "cell_type": "code",
      "source": [
        "print(p.search('3 python'))\n",
        "print(p.search('3 Python'))\n",
        "print(p.search('3 PYTHON'))"
      ],
      "metadata": {
        "colab": {
          "base_uri": "https://localhost:8080/"
        },
        "id": "NoVNLLlWjA-4",
        "outputId": "49d3148d-2c86-4165-cdcc-d34634511e79"
      },
      "execution_count": 42,
      "outputs": [
        {
          "output_type": "stream",
          "name": "stdout",
          "text": [
            "<re.Match object; span=(2, 8), match='python'>\n",
            "<re.Match object; span=(2, 8), match='Python'>\n",
            "<re.Match object; span=(2, 8), match='PYTHON'>\n"
          ]
        }
      ]
    },
    {
      "cell_type": "code",
      "source": [
        "# 대소문자를 구분하지 않고 매치시키려면 compile 메소드의 \n",
        "# 두번째 매개변수를 re.I로 넘겨준다. (re 모듈의 상수다)\n",
        "# Q. text에서 대소문자 구분없이 전체문장 모두 출력하세요 \n",
        "\n",
        "text = 'Friend fRiend friEnd FRIEND'\n",
        "p = re.compile('[a-z]+',re.I)\n",
        "m = p.findall(text)\n",
        "\n",
        "print(m)"
      ],
      "metadata": {
        "colab": {
          "base_uri": "https://localhost:8080/"
        },
        "id": "LAYCut_ejDQL",
        "outputId": "dbb4d300-07f1-4f33-b514-ea402c257758"
      },
      "execution_count": 43,
      "outputs": [
        {
          "output_type": "stream",
          "name": "stdout",
          "text": [
            "['Friend', 'fRiend', 'friEnd', 'FRIEND']\n"
          ]
        }
      ]
    },
    {
      "cell_type": "code",
      "source": [
        "# python이라는 문자열로 시작하고 그 뒤에 whitespace, 그뒤에 단어가 오는 경우\n",
        "import re\n",
        "p = re.compile('^python\\s\\w+')\n",
        "\n",
        "data = \"\"\"python one \n",
        "life is too short\n",
        "python  two\n",
        "you need python\n",
        "python three\"\"\"\n",
        "print(p.findall(data))"
      ],
      "metadata": {
        "colab": {
          "base_uri": "https://localhost:8080/"
        },
        "id": "riToValGjP3s",
        "outputId": "5942bbf1-474f-4ba4-892e-9fd9f2dd18b9"
      },
      "execution_count": 44,
      "outputs": [
        {
          "output_type": "stream",
          "name": "stdout",
          "text": [
            "['python one']\n"
          ]
        }
      ]
    },
    {
      "cell_type": "code",
      "source": [
        "# re.MULTILINE 또는 re.M옵션으로 ^메타 문자를 각 라인의 처음으로 인식시킴\n",
        "import re\n",
        "p = re.compile(\"^python\\s\\w+\",re.M)\n",
        "\n",
        "data = \"\"\"python one \n",
        "life is too short\n",
        "python two\n",
        "you need python\n",
        "python three\"\"\"\n",
        "print(p.findall(data))"
      ],
      "metadata": {
        "colab": {
          "base_uri": "https://localhost:8080/"
        },
        "id": "GXO1i8b-jetG",
        "outputId": "96ec23df-726f-4b30-cb3d-4c531baaca65"
      },
      "execution_count": 45,
      "outputs": [
        {
          "output_type": "stream",
          "name": "stdout",
          "text": [
            "['python one', 'python two', 'python three']\n"
          ]
        }
      ]
    },
    {
      "cell_type": "code",
      "source": [
        "# re.VERBOSE 또는 re.X : 이해하기 어려운 정규식을 주석 또는 라인 단위로 구분\n",
        "# charref = re.compile(r'&[#](0[0-7]+|[0-9]+|x[0-9a-fA-F]+);')\n",
        "\n",
        "charref = re.compile(r\"\"\"\n",
        "&[#]               # Start of a numeric entity reference\n",
        "(\n",
        "    0[0-7]+        # Octal form\n",
        "  | [0-9]+         # Decimal form \n",
        "  | x[0-9a-fA-F]+  # Hexadecimal form\n",
        ")\n",
        ";                  # Trailing semicolon \n",
        "\"\"\",re.VERBOSE)"
      ],
      "metadata": {
        "id": "terLvVI-jhgG"
      },
      "execution_count": 46,
      "outputs": []
    },
    {
      "cell_type": "code",
      "source": [
        "# 정규식 문자열 앞에 r문자를 삽입하면 Raw String 규칙에 의하여 백슬래시 2개 대신 1개 사용\n",
        "# 파이썬 문자열 리터럴 규칙에 의하여 \\\\이 \\으로 변경되어 \\section이 전달\n",
        "p = re.compile(r'\\\\section')\n",
        "\n",
        "print(p.match('\\section'))\n",
        "p.findall('\\section\\section')"
      ],
      "metadata": {
        "colab": {
          "base_uri": "https://localhost:8080/"
        },
        "id": "R_IP_RIojqio",
        "outputId": "899a1aaa-bc30-4523-b2b0-d4ba17a41404"
      },
      "execution_count": 49,
      "outputs": [
        {
          "output_type": "stream",
          "name": "stdout",
          "text": [
            "<re.Match object; span=(0, 8), match='\\\\section'>\n"
          ]
        },
        {
          "output_type": "execute_result",
          "data": {
            "text/plain": [
              "['\\\\section', '\\\\section']"
            ]
          },
          "metadata": {},
          "execution_count": 49
        }
      ]
    },
    {
      "cell_type": "code",
      "source": [
        "# 메타 문자\n",
        "# |(or와 동일한 의미), ^(문자열의 맨처음), $(문자열의 끝과 매치)\n",
        "import re\n",
        "p = re.compile('Crow|Servo')\n",
        "m = p.match('CrowHello')\n",
        "print(m)\n",
        "print()\n",
        "print(re.search('^Life', 'Life is too short'))\n",
        "print(re.search('^Life', 'My Life'))\n",
        "print()\n",
        "print(re.search('Life$', 'Life is too short'))\n",
        "print(re.search('Life$', 'My Life'))"
      ],
      "metadata": {
        "colab": {
          "base_uri": "https://localhost:8080/"
        },
        "id": "As-EJ4_Dj2TY",
        "outputId": "20a4d9dc-fe61-4e09-effb-81856a17d744"
      },
      "execution_count": 50,
      "outputs": [
        {
          "output_type": "stream",
          "name": "stdout",
          "text": [
            "<re.Match object; span=(0, 4), match='Crow'>\n",
            "\n",
            "<re.Match object; span=(0, 4), match='Life'>\n",
            "None\n",
            "\n",
            "None\n",
            "<re.Match object; span=(3, 7), match='Life'>\n"
          ]
        }
      ]
    },
    {
      "cell_type": "code",
      "source": [
        "# \\A(문자열의 처음과 매치. 단, re.MULTILINE 옵션 사용시 ^와은 달리 전체 문자열의 처음하고만 매치)\n",
        "# \\Z(문자열의 끝과 매치. 단, re.MULTILINE 옵션 사용시 ^와은 달리 전체 문자열의 끝하고만 매치)\n",
        "import re\n",
        "p = re.compile('\\ALife', re.MULTILINE)\n",
        "data = \"\"\"Life is too short\n",
        "Life is good\n",
        "Life is valuable\"\"\"\n",
        "print(p.findall(data))\n",
        "print()\n",
        "q = re.compile('^Life', re.MULTILINE)\n",
        "data = \"\"\"Life is too short\n",
        "Life is good\n",
        "Life is valuable\"\"\"\n",
        "print(q.findall(data))\n",
        "print()\n",
        "p1 = re.compile('good\\Z', re.MULTILINE)\n",
        "data1 = \"\"\"Life is too short\n",
        "Life is good\n",
        "Life is very good\"\"\"\n",
        "print(p1.findall(data1))\n",
        "print()\n",
        "q1 = re.compile('good$', re.MULTILINE)\n",
        "data1 = \"\"\"Life is too short\n",
        "Life is good\n",
        "Life is very good\"\"\"\n",
        "print(q1.findall(data1))"
      ],
      "metadata": {
        "colab": {
          "base_uri": "https://localhost:8080/"
        },
        "id": "ODOo7LjdkM49",
        "outputId": "babf7d68-a2c4-46ce-eda6-d5d152ec8f32"
      },
      "execution_count": 51,
      "outputs": [
        {
          "output_type": "stream",
          "name": "stdout",
          "text": [
            "['Life']\n",
            "\n",
            "['Life', 'Life', 'Life']\n",
            "\n",
            "['good']\n",
            "\n",
            "['good', 'good']\n"
          ]
        }
      ]
    },
    {
      "cell_type": "code",
      "source": [
        "# Q. 'we are going home'에서 home만 출력하세요.\n",
        "\n",
        "p = re.compile('[a-z]+$')\n",
        "m = p.search('we are going home')\n",
        "print(m.group())"
      ],
      "metadata": {
        "colab": {
          "base_uri": "https://localhost:8080/"
        },
        "id": "FVt1ZJhmkT1u",
        "outputId": "35dd1248-509d-4bba-ea18-d5e75ba3e2da"
      },
      "execution_count": 59,
      "outputs": [
        {
          "output_type": "stream",
          "name": "stdout",
          "text": [
            "home\n"
          ]
        }
      ]
    },
    {
      "cell_type": "code",
      "source": [
        "# Q. 'home sweet'에서 home만 출력하세요.\n",
        "\n",
        "p = re.compile('^[a-z]+')\n",
        "m = p.search('home sweet')\n",
        "print(m.group())"
      ],
      "metadata": {
        "colab": {
          "base_uri": "https://localhost:8080/"
        },
        "id": "T8jujPX5kpAV",
        "outputId": "89d7b43d-459d-468f-e758-c9b720cc98e3"
      },
      "execution_count": 60,
      "outputs": [
        {
          "output_type": "stream",
          "name": "stdout",
          "text": [
            "home\n"
          ]
        }
      ]
    },
    {
      "cell_type": "code",
      "source": [
        "# Q. '199305, 1923A, a93247'에서 '199305'만 출력하세요.\n",
        "\n",
        "p = re.compile('^\\d+')\n",
        "m = p.search('199305, 1923A, a93247')\n",
        "print(m.group())"
      ],
      "metadata": {
        "colab": {
          "base_uri": "https://localhost:8080/"
        },
        "id": "NdhADSIfk95H",
        "outputId": "5023955e-2752-4ab2-cb50-b3eeb79178ae"
      },
      "execution_count": 63,
      "outputs": [
        {
          "output_type": "stream",
          "name": "stdout",
          "text": [
            "199305\n"
          ]
        }
      ]
    },
    {
      "cell_type": "code",
      "source": [
        "# Q. '99food234, a93456\\n, a9356ba '에서 '99food234'만 출력하세요.\n",
        "p = re.compile('\\d+\\w+\\d+')\n",
        "m = p.search('99food234, a93456\\n, a9356ba ')\n",
        "\n",
        "print(m.group())"
      ],
      "metadata": {
        "colab": {
          "base_uri": "https://localhost:8080/"
        },
        "id": "M7qVFEa0lKQr",
        "outputId": "c0732010-ccb5-421c-9333-3f4b0f85a834"
      },
      "execution_count": 64,
      "outputs": [
        {
          "output_type": "stream",
          "name": "stdout",
          "text": [
            "99food234\n"
          ]
        }
      ]
    },
    {
      "cell_type": "code",
      "source": [
        "# \\b whitespace에 의해 구분\n",
        "# \\B whitespace로 구분된 단어가 아닌 경우에만 매치\n",
        "\n",
        "p = re.compile(r'\\bclass\\b')\n",
        "print(p.search('no class at all'))\n",
        "print(p.search('the declassified algorithm'))\n",
        "print()\n",
        "\n",
        "q = re.compile(r'\\Bclass\\B')\n",
        "print(q.search('no class at all'))\n",
        "print(q.search('the declassified algorithm'))"
      ],
      "metadata": {
        "colab": {
          "base_uri": "https://localhost:8080/"
        },
        "id": "LV5BoJYHl4EB",
        "outputId": "16a4a5d0-09b4-41ff-e84a-9c84e39c2b7b"
      },
      "execution_count": 65,
      "outputs": [
        {
          "output_type": "stream",
          "name": "stdout",
          "text": [
            "<re.Match object; span=(3, 8), match='class'>\n",
            "None\n",
            "\n",
            "None\n",
            "<re.Match object; span=(6, 11), match='class'>\n"
          ]
        }
      ]
    },
    {
      "cell_type": "code",
      "source": [
        "# Q. 정규표현식을 사용하여 text에서 전화번호만  출력하세요\n",
        "\n",
        "text = \"문의사항이 있으면 032-232-3245 으로 연락주시기 바랍니다.\"\n",
        "import re\n",
        "\n",
        "p = re.compile('\\d+-+\\d+-+\\d+')\n",
        "m = p.findall(text)\n",
        "\n",
        "print(m)"
      ],
      "metadata": {
        "colab": {
          "base_uri": "https://localhost:8080/"
        },
        "id": "bqjrUJgAmRhw",
        "outputId": "9eaecade-4dac-4a17-fbcd-cb5a6f412ff4"
      },
      "execution_count": 67,
      "outputs": [
        {
          "output_type": "stream",
          "name": "stdout",
          "text": [
            "['032-232-3245']\n"
          ]
        }
      ]
    },
    {
      "cell_type": "code",
      "source": [
        "# Q. 정규표현식을 사용하여 text에서 에러가 들어간 부분만 포함하는 리스트를 출력하세요. \n",
        "# text = \"에러 1122, 레퍼런스 오류, 에러 1033, 아규먼트 오류, 에러 xxx\"\n",
        "\n",
        "import re\n",
        "\n",
        "p = re.compile('에러+\\s+\\w+')\n",
        "text = \"에러 1122, 레퍼런스 오류, 에러 1033, 아규먼트 오류, 에러 xxx\"\n",
        "m = p.findall(text)\n",
        "print(m)"
      ],
      "metadata": {
        "colab": {
          "base_uri": "https://localhost:8080/"
        },
        "id": "_20HvDEvmztj",
        "outputId": "1eb1c32e-9906-4b96-e32c-dc9f1740636e"
      },
      "execution_count": 69,
      "outputs": [
        {
          "output_type": "stream",
          "name": "stdout",
          "text": [
            "['에러 1122', '에러 1033', '에러 xxx']\n"
          ]
        }
      ]
    },
    {
      "cell_type": "code",
      "source": [
        "# Q. (     )에 정규표현식을 작성하여 아래와 같이 출력하세요.\n",
        "# ['1 apple', '5 oranges', '3 boys', '4 girls', '10 army', '11 mr']\n",
        "\n",
        "import re\n",
        "li = '1 apple, 5 oranges, 3 boys, 4 girls; 10 army| 11 mr'\n",
        "regex = re.compile('\\d+\\s+[a-z]+')\n",
        "list = regex.findall(li)\n",
        "print(list)"
      ],
      "metadata": {
        "colab": {
          "base_uri": "https://localhost:8080/"
        },
        "id": "AIjg7Pt8pDuF",
        "outputId": "378d74a5-2e4c-4332-d504-953d213a911a"
      },
      "execution_count": 70,
      "outputs": [
        {
          "output_type": "stream",
          "name": "stdout",
          "text": [
            "['1 apple', '5 oranges', '3 boys', '4 girls', '10 army', '11 mr']\n"
          ]
        }
      ]
    },
    {
      "cell_type": "code",
      "source": [
        "# Q. text에서 'H,h'만 출력하세요.\n",
        "text = 'Hello my friend! Life is short you need Python!'\n",
        "\n",
        "p = re.compile('[Hh]')\n",
        "m = p.findall(text)\n",
        "print(m)"
      ],
      "metadata": {
        "colab": {
          "base_uri": "https://localhost:8080/"
        },
        "id": "NAKufL44qe7Z",
        "outputId": "1c9183aa-9a51-47f9-d531-0194c5beccdb"
      },
      "execution_count": 71,
      "outputs": [
        {
          "output_type": "stream",
          "name": "stdout",
          "text": [
            "['H', 'h', 'h']\n"
          ]
        }
      ]
    },
    {
      "cell_type": "code",
      "source": [
        "# Q. text에서 'H,h'가 아닌 것 모두를 출력하세요.\n",
        "text = 'Hello my friend! Life is short you need Python!'\n",
        "\n",
        "p = re.compile('[^Hh]')\n",
        "m = p.findall(text)\n",
        "print(m)"
      ],
      "metadata": {
        "colab": {
          "base_uri": "https://localhost:8080/"
        },
        "id": "g_5H-NREqpmK",
        "outputId": "7ad81896-157b-47c2-ae7e-a668036e3d27"
      },
      "execution_count": 73,
      "outputs": [
        {
          "output_type": "stream",
          "name": "stdout",
          "text": [
            "['e', 'l', 'l', 'o', ' ', 'm', 'y', ' ', 'f', 'r', 'i', 'e', 'n', 'd', '!', ' ', 'L', 'i', 'f', 'e', ' ', 'i', 's', ' ', 's', 'o', 'r', 't', ' ', 'y', 'o', 'u', ' ', 'n', 'e', 'e', 'd', ' ', 'P', 'y', 't', 'o', 'n', '!']\n"
          ]
        }
      ]
    },
    {
      "cell_type": "code",
      "source": [
        "# 그룹핑 : 매치된 문자열 중에서 특정 부분의 문자열만 뽑아내는 경우 ()으로 만들어 준다.\n",
        "# group(0) 매치된 전체 문자열, 1 첫번째 그룹, 2 두번째 그룹, n n번째 그룹\n",
        "p = re.compile('(ABC)+')\n",
        "m = p.search('ABCABCABC OK?')\n",
        "print(m)\n",
        "print(m.group(0))\n",
        "print(m.group(1))"
      ],
      "metadata": {
        "colab": {
          "base_uri": "https://localhost:8080/"
        },
        "id": "wTyrbvSlqy9x",
        "outputId": "05967981-6d80-4da0-84c0-05cdddcd44b1"
      },
      "execution_count": 74,
      "outputs": [
        {
          "output_type": "stream",
          "name": "stdout",
          "text": [
            "<re.Match object; span=(0, 9), match='ABCABCABC'>\n",
            "ABCABCABC\n",
            "ABC\n"
          ]
        }
      ]
    },
    {
      "cell_type": "code",
      "source": [
        "p = re.compile('((AB)(CD)(EF))+')\n",
        "m = p.search('DEFABCDEFDEF OK?')\n",
        "print(m)\n",
        "print(m.group(0))\n",
        "print(m.group(1))\n",
        "print(m.group(2))\n",
        "print(m.group(3))\n",
        "print(m.group(4))"
      ],
      "metadata": {
        "colab": {
          "base_uri": "https://localhost:8080/"
        },
        "id": "lrfrVu-UrRdA",
        "outputId": "f1882553-4908-4c93-eb7b-b5b2250cbba9"
      },
      "execution_count": 75,
      "outputs": [
        {
          "output_type": "stream",
          "name": "stdout",
          "text": [
            "<re.Match object; span=(3, 9), match='ABCDEF'>\n",
            "ABCDEF\n",
            "ABCDEF\n",
            "AB\n",
            "CD\n",
            "EF\n"
          ]
        }
      ]
    },
    {
      "cell_type": "code",
      "source": [
        "p = re.compile('((AB)(CD)(EF))+')\n",
        "m = p.match('ABCDEFDEF OK?')\n",
        "print(m)\n",
        "print(m.group(0))\n",
        "print(m.group(1))\n",
        "print(m.group(2))\n",
        "print(m.group(3))\n",
        "print(m.group(4))"
      ],
      "metadata": {
        "colab": {
          "base_uri": "https://localhost:8080/"
        },
        "id": "wcBqXKkmrcXb",
        "outputId": "795f6bb1-3ed0-4c0e-b0c4-8cb9f834ba81"
      },
      "execution_count": 76,
      "outputs": [
        {
          "output_type": "stream",
          "name": "stdout",
          "text": [
            "<re.Match object; span=(0, 6), match='ABCDEF'>\n",
            "ABCDEF\n",
            "ABCDEF\n",
            "AB\n",
            "CD\n",
            "EF\n"
          ]
        }
      ]
    },
    {
      "cell_type": "code",
      "source": [
        "# 그룹이 중첩되어 있는 경우는 바깥쪽부터 시작하여 안쪽으로 들어갈수록 인덱스 증가\n",
        "# Q. 정규표현식을 사용하여 'park 010-1234-1234'에서 지역코드만 출력하세요.\n",
        "\n",
        "p = re.compile(r'(\\w+)\\s+((\\d+)[-]\\d+[-]\\d+)')\n",
        "m = p.search('park 010-1234-1234')\n",
        "print(m)\n",
        "print(m.group(1))\n",
        "print(m.group(2))\n",
        "print(m.group(3))\n",
        "print(m.groups())"
      ],
      "metadata": {
        "colab": {
          "base_uri": "https://localhost:8080/"
        },
        "id": "Hr603YU5rfyd",
        "outputId": "2b1e8a45-1e8a-4772-c09c-261b2f769850"
      },
      "execution_count": 77,
      "outputs": [
        {
          "output_type": "stream",
          "name": "stdout",
          "text": [
            "<re.Match object; span=(0, 18), match='park 010-1234-1234'>\n",
            "park\n",
            "010-1234-1234\n",
            "010\n",
            "('park', '010-1234-1234', '010')\n"
          ]
        }
      ]
    },
    {
      "cell_type": "code",
      "source": [
        "# Q. 'Paris is very very beautiful.'에서 'very very'를 출력하세요.\n",
        "\n",
        "p = re.compile(r'\\b(\\w+)\\s+\\1')\n",
        "p.search('Paris is very very beautiful.').group()"
      ],
      "metadata": {
        "colab": {
          "base_uri": "https://localhost:8080/",
          "height": 35
        },
        "id": "_rtKy7yLtUwm",
        "outputId": "e3d149c5-f466-4562-edc2-be2130c7271c"
      },
      "execution_count": 78,
      "outputs": [
        {
          "output_type": "execute_result",
          "data": {
            "application/vnd.google.colaboratory.intrinsic+json": {
              "type": "string"
            },
            "text/plain": [
              "'very very'"
            ]
          },
          "metadata": {},
          "execution_count": 78
        }
      ]
    },
    {
      "cell_type": "code",
      "source": [
        "# Q.'abcdefghij' 에 대하여 중첩을 적용한 서브그룹 5개로 컴파일하여 group()함수를 이용하여 \n",
        "# 'abcdefghi'와 e'를 출력하세요\n",
        "\n",
        "p = re.compile('(a(b(c(d(e)f)g)h)i)j')\n",
        "m = p.match('abcdefghij')\n",
        "print(m.group(0))\n",
        "print(m.group(1))\n",
        "m.group(5)"
      ],
      "metadata": {
        "colab": {
          "base_uri": "https://localhost:8080/",
          "height": 72
        },
        "id": "riuxcevHtgIe",
        "outputId": "2b377eca-bd25-4532-8e42-30fe724b282a"
      },
      "execution_count": 79,
      "outputs": [
        {
          "output_type": "stream",
          "name": "stdout",
          "text": [
            "abcdefghij\n",
            "abcdefghi\n"
          ]
        },
        {
          "output_type": "execute_result",
          "data": {
            "application/vnd.google.colaboratory.intrinsic+json": {
              "type": "string"
            },
            "text/plain": [
              "'e'"
            ]
          },
          "metadata": {},
          "execution_count": 79
        }
      ]
    },
    {
      "cell_type": "code",
      "source": [
        "# Q. 위 문제에서 모든 서브 그룹에 대한 문자열을 포함하는 튜플을 출력하세요.\n",
        "m.groups()"
      ],
      "metadata": {
        "colab": {
          "base_uri": "https://localhost:8080/"
        },
        "id": "LtuzKnqZtkqP",
        "outputId": "26f12f3e-2b56-4422-8a0c-90f31512a21d"
      },
      "execution_count": 80,
      "outputs": [
        {
          "output_type": "execute_result",
          "data": {
            "text/plain": [
              "('abcdefghi', 'bcdefgh', 'cdefg', 'def', 'e')"
            ]
          },
          "metadata": {},
          "execution_count": 80
        }
      ]
    },
    {
      "cell_type": "code",
      "source": [
        "# 그룹핑된 문자열에 이름 붙이기 : 확장 구문 (?P<name>\\w+)\n",
        "p = re.compile(r'(?P<name>\\w+)\\s+((\\d+)[-]\\d+[-]\\d+)')\n",
        "m = p.search('park 010-1234-1234')\n",
        "print(m.group('name'))"
      ],
      "metadata": {
        "colab": {
          "base_uri": "https://localhost:8080/"
        },
        "id": "L036121vtndU",
        "outputId": "3ef2f2f7-d28e-4f49-cdb6-c8652475edb2"
      },
      "execution_count": 81,
      "outputs": [
        {
          "output_type": "stream",
          "name": "stdout",
          "text": [
            "park\n"
          ]
        }
      ]
    },
    {
      "cell_type": "code",
      "source": [
        "# Q. 이름으로 그룹을 참조하여 'Lots of punctuation 에서 Lots를 출력하세요.\n",
        "p = re.compile(r'(?P<word>\\b\\w+\\b)')\n",
        "m = p.search( '(((( Lots of punctuation )))' )\n",
        "print(m.group('word'))"
      ],
      "metadata": {
        "colab": {
          "base_uri": "https://localhost:8080/"
        },
        "id": "x6aztDnBtslB",
        "outputId": "d939f1ba-b3a8-456a-f654-6f4c91727931"
      },
      "execution_count": 82,
      "outputs": [
        {
          "output_type": "stream",
          "name": "stdout",
          "text": [
            "Lots\n"
          ]
        }
      ]
    },
    {
      "cell_type": "code",
      "source": [
        "# 전방 탐색\n",
        "# 긍정(?=...) ...에 해당되는 정규식과 매치되어야 하며 조건이 통과되어도 문자열이 소모되지 않음\n",
        "# 부정(?!...) ...에 해당되는 정규식과 매치되지 않아야 하며 조건이 통과되어도 문자열이 소모되지 않음\n",
        "\n",
        "p = re.compile(r'.+:')\n",
        "m = p.search('http://google.com')\n",
        "print(m.group())\n",
        "print()\n",
        "p = re.compile(r'.+(?=:)')  # :에 해당되는 문자열이 정규식 엔진에 의해 소모되지 않음(검색에는 포함되지만 결과에는 제외)\n",
        "m = p.search('http://google.com')\n",
        "print(m.group())\n",
        "print()"
      ],
      "metadata": {
        "colab": {
          "base_uri": "https://localhost:8080/"
        },
        "id": "6wKq1hZbt54U",
        "outputId": "7e8d1af5-573c-4483-e107-ad6ac2aa240d"
      },
      "execution_count": 83,
      "outputs": [
        {
          "output_type": "stream",
          "name": "stdout",
          "text": [
            "http:\n",
            "\n",
            "http\n",
            "\n"
          ]
        }
      ]
    },
    {
      "cell_type": "code",
      "source": [
        "# 파일명+.+확장자를 나타내는 정규식\n",
        "p =re.compile('.*[.].*$')\n",
        "list = ['foo.exe', 'autoexec.bat', 'sendmail.cf']\n",
        "for i in list:\n",
        "    if p.match(i):\n",
        "        print(i)"
      ],
      "metadata": {
        "colab": {
          "base_uri": "https://localhost:8080/"
        },
        "id": "zAuBb7uOt-qg",
        "outputId": "043fab26-f446-43aa-8fd8-5ba80f795170"
      },
      "execution_count": 84,
      "outputs": [
        {
          "output_type": "stream",
          "name": "stdout",
          "text": [
            "foo.exe\n",
            "autoexec.bat\n",
            "sendmail.cf\n"
          ]
        }
      ]
    },
    {
      "cell_type": "code",
      "source": [
        "# 확장자가 bat 혹은 exe가 아닌 경우만 통과된다는 부정적 전방탐색\n",
        "p =re.compile('.*[.](?!bat$|exe$).*$')\n",
        "list = ['foo.exe', 'autoexec.bat', 'sendmail.cf']\n",
        "for i in list:\n",
        "    if p.match(i):\n",
        "        print(i)"
      ],
      "metadata": {
        "colab": {
          "base_uri": "https://localhost:8080/"
        },
        "id": "HNrGkCCduLk6",
        "outputId": "54cecf48-0b50-4d15-dec7-e38f90299a58"
      },
      "execution_count": 85,
      "outputs": [
        {
          "output_type": "stream",
          "name": "stdout",
          "text": [
            "sendmail.cf\n"
          ]
        }
      ]
    },
    {
      "cell_type": "code",
      "source": [
        "# 문자열 바꾸기\n",
        "# sub 메서드를 사용하면 정규식과 매치되는 부분을 다른 문자로 쉽게 바꿀 수 있음\n",
        "# 바꾸기 횟수를 제어하려면 세 번째 매개변수로 count 값을 넘기면 됨\n",
        "# subn 역시 sub와 동일한 기능을 하지만 반환 결과를 튜플로 돌려줌. 두 번째 요소는 바꾸기 발생 횟수\n",
        "p = re.compile('(blue|white|red)')\n",
        "print(p.sub('colour', 'blue socks and red shoes'))\n",
        "print(p.sub('colour', 'blue socks and red shoes', count=1)) # 바꾸기 횟수를 제어\n",
        "print(p.subn( 'colour', 'blue socks and red shoes'))"
      ],
      "metadata": {
        "colab": {
          "base_uri": "https://localhost:8080/"
        },
        "id": "aOjlfwp_uPX8",
        "outputId": "ba758c2c-9db7-4637-bc72-ef2ac259273d"
      },
      "execution_count": 86,
      "outputs": [
        {
          "output_type": "stream",
          "name": "stdout",
          "text": [
            "colour socks and colour shoes\n",
            "colour socks and red shoes\n",
            "('colour socks and colour shoes', 2)\n"
          ]
        }
      ]
    },
    {
      "cell_type": "code",
      "source": [
        "# Q. '12345abc'에서 'abc'만 출력하세요.\n",
        "import re\n",
        "str = '12345abc'\n",
        "re.sub('\\d','',str)"
      ],
      "metadata": {
        "colab": {
          "base_uri": "https://localhost:8080/",
          "height": 35
        },
        "id": "0HbHijHduXKe",
        "outputId": "4747efe2-eda0-4fbc-d1a0-8240b453b6bb"
      },
      "execution_count": 87,
      "outputs": [
        {
          "output_type": "execute_result",
          "data": {
            "application/vnd.google.colaboratory.intrinsic+json": {
              "type": "string"
            },
            "text/plain": [
              "'abc'"
            ]
          },
          "metadata": {},
          "execution_count": 87
        }
      ]
    },
    {
      "cell_type": "code",
      "source": [
        "# Q. '12345abc'에서 '12345'만 출력하세요.\n",
        "import re\n",
        "str = '12345abc'\n",
        "re.sub('[^0-9]','',str)"
      ],
      "metadata": {
        "colab": {
          "base_uri": "https://localhost:8080/",
          "height": 35
        },
        "id": "-EvExwMxudDU",
        "outputId": "f443afc5-7cb6-4586-8c3e-3a3f609612a1"
      },
      "execution_count": 88,
      "outputs": [
        {
          "output_type": "execute_result",
          "data": {
            "application/vnd.google.colaboratory.intrinsic+json": {
              "type": "string"
            },
            "text/plain": [
              "'12345'"
            ]
          },
          "metadata": {},
          "execution_count": 88
        }
      ]
    },
    {
      "cell_type": "code",
      "source": [
        "# sub 메서드의 매개변수로 함수 넣기\n",
        "# hexrepl 함수는 match 객체(위에서 숫자에 매치되는)를 입력으로 받아 16진수로 변환하여 돌려주는 함수 \n",
        "# sub의 첫 번째 매개변수로 함수를 사용할 경우 해당 함수의 첫 번째 매개변수에는 정규식과 매치된 match 객체가 입력 \n",
        "# 매치되는 문자열은 함수의 반환 값으로 변환\n",
        "\n",
        "def hexrepl(match):\n",
        "    value = int(match.group())\n",
        "    return hex(value)\n",
        "\n",
        "p = re.compile(r'\\d+')\n",
        "p.sub(hexrepl, 'Call 65490 for printing, 49152 for user code.')"
      ],
      "metadata": {
        "colab": {
          "base_uri": "https://localhost:8080/",
          "height": 35
        },
        "id": "HQxew4dlul95",
        "outputId": "b5410f4b-aef8-4052-be6c-a43f40f07223"
      },
      "execution_count": 89,
      "outputs": [
        {
          "output_type": "execute_result",
          "data": {
            "application/vnd.google.colaboratory.intrinsic+json": {
              "type": "string"
            },
            "text/plain": [
              "'Call 0xffd2 for printing, 0xc000 for user code.'"
            ]
          },
          "metadata": {},
          "execution_count": 89
        }
      ]
    },
    {
      "cell_type": "code",
      "source": [
        "# Greedy vs Non-Greedy\n",
        "# * 메타 문자는 매우 탐욕스러워서 매치할 수 있는 최대한의 문자열인 <html><head><title>Title</title> 문자열을 모두 소비\n",
        "# non-greedy 문자인 ?는 *의 탐욕을 제한하여 최소한의 반복을 수행. *?, +?, ??, {m,n}?와 같이 사용\n",
        "s = '<html><head><title>Title</title>'\n",
        "print(s)\n",
        "print()\n",
        "print(len(s))\n",
        "print()\n",
        "print(re.match('<.*>', s).span())\n",
        "print()\n",
        "print(re.match('<.*>', s).group())\n",
        "print()\n",
        "print(re.match('<.*?>', s).group())\n",
        "print()\n",
        "print(re.match('<.*?>', s).span())"
      ],
      "metadata": {
        "colab": {
          "base_uri": "https://localhost:8080/"
        },
        "id": "VCYImU1_uxiI",
        "outputId": "b709ca90-a3f9-4490-c7d8-d2bfed451392"
      },
      "execution_count": 90,
      "outputs": [
        {
          "output_type": "stream",
          "name": "stdout",
          "text": [
            "<html><head><title>Title</title>\n",
            "\n",
            "32\n",
            "\n",
            "(0, 32)\n",
            "\n",
            "<html><head><title>Title</title>\n",
            "\n",
            "<html>\n",
            "\n",
            "(0, 6)\n"
          ]
        }
      ]
    }
  ]
}
