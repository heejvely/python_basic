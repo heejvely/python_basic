{
  "nbformat": 4,
  "nbformat_minor": 0,
  "metadata": {
    "colab": {
      "name": "python_basic(자료형)_1.ipynb",
      "provenance": [],
      "collapsed_sections": [],
      "authorship_tag": "ABX9TyNW9ZnYmOl5yFLKn4BVD4mc",
      "include_colab_link": true
    },
    "kernelspec": {
      "name": "python3",
      "display_name": "Python 3"
    },
    "language_info": {
      "name": "python"
    }
  },
  "cells": [
    {
      "cell_type": "markdown",
      "metadata": {
        "id": "view-in-github",
        "colab_type": "text"
      },
      "source": [
        "<a href=\"https://colab.research.google.com/github/heejvely/python_basic/blob/main/python_basic(%EC%9E%90%EB%A3%8C%ED%98%95)_1.ipynb\" target=\"_parent\"><img src=\"https://colab.research.google.com/assets/colab-badge.svg\" alt=\"Open In Colab\"/></a>"
      ]
    },
    {
      "cell_type": "markdown",
      "source": [
        "## Jump to Python으로 python basic 복습"
      ],
      "metadata": {
        "id": "Kx17VrqL4P3h"
      }
    },
    {
      "cell_type": "markdown",
      "source": [
        "## 숫자형"
      ],
      "metadata": {
        "id": "f-6pFffx5NZ2"
      }
    },
    {
      "cell_type": "code",
      "execution_count": 1,
      "metadata": {
        "colab": {
          "base_uri": "https://localhost:8080/"
        },
        "id": "zOnBK8cizlAi",
        "outputId": "3189ea6d-cc4b-4774-f4df-f0f50f0bab3c"
      },
      "outputs": [
        {
          "output_type": "stream",
          "name": "stdout",
          "text": [
            "123\n",
            "-178\n",
            "0\n"
          ]
        }
      ],
      "source": [
        "# 정수형 - 정수를 뜻하는 자료\n",
        "\n",
        "a = 123\n",
        "b = -178\n",
        "c = 0\n",
        "\n",
        "print(a)\n",
        "print(b)\n",
        "print(c)"
      ]
    },
    {
      "cell_type": "code",
      "source": [
        "# 실수형 - 소수점이 포함된 숫자\n",
        "\n",
        "a = 1.2\n",
        "b = -3.45\n",
        "\n",
        "c = 4.24E10\n",
        "d = 4.24e-10\n",
        "\n",
        "print(a)\n",
        "print(b)\n",
        "print(c)\n",
        "print(d)"
      ],
      "metadata": {
        "colab": {
          "base_uri": "https://localhost:8080/"
        },
        "id": "_OU5CxrR4Wmr",
        "outputId": "b33029a1-bfff-4dca-de33-c7aace27df52"
      },
      "execution_count": 2,
      "outputs": [
        {
          "output_type": "stream",
          "name": "stdout",
          "text": [
            "1.2\n",
            "-3.45\n",
            "42400000000.0\n",
            "4.24e-10\n"
          ]
        }
      ]
    },
    {
      "cell_type": "code",
      "source": [
        "# 8진수와 16진수\n",
        "\n",
        "a = 0o177\n",
        "\n",
        "b = 0x8ff\n",
        "c = 0xABC\n",
        "\n",
        "print(a)\n",
        "print(b)\n",
        "print(c)"
      ],
      "metadata": {
        "colab": {
          "base_uri": "https://localhost:8080/"
        },
        "id": "WEbYgkAx47CA",
        "outputId": "261513ca-0984-422b-f452-c7c929b4357d"
      },
      "execution_count": 3,
      "outputs": [
        {
          "output_type": "stream",
          "name": "stdout",
          "text": [
            "127\n",
            "2303\n",
            "2748\n"
          ]
        }
      ]
    },
    {
      "cell_type": "code",
      "source": [
        "# 숫자형을 활용한 사칙연산\n",
        "\n",
        "a = 3\n",
        "b = 4\n",
        "\n",
        "print(a+b)"
      ],
      "metadata": {
        "colab": {
          "base_uri": "https://localhost:8080/"
        },
        "id": "KUrixw_i6VzG",
        "outputId": "f6414e9a-67c9-4597-cdf9-5b7bb3dbc8f7"
      },
      "execution_count": 4,
      "outputs": [
        {
          "output_type": "stream",
          "name": "stdout",
          "text": [
            "7\n"
          ]
        }
      ]
    },
    {
      "cell_type": "code",
      "source": [
        "print(a*b)\n",
        "print(a/b)"
      ],
      "metadata": {
        "colab": {
          "base_uri": "https://localhost:8080/"
        },
        "id": "G0JnIVn76arP",
        "outputId": "f15f0784-9760-4a2d-9711-3bfd33fd32c0"
      },
      "execution_count": 5,
      "outputs": [
        {
          "output_type": "stream",
          "name": "stdout",
          "text": [
            "12\n",
            "0.75\n"
          ]
        }
      ]
    },
    {
      "cell_type": "code",
      "source": [
        "# x의 y제곱을 나타내는 **연산자\n",
        "\n",
        "a = 3\n",
        "b = 4\n",
        "\n",
        "print(a**b)"
      ],
      "metadata": {
        "colab": {
          "base_uri": "https://localhost:8080/"
        },
        "id": "k-TkS17a6d8-",
        "outputId": "e252217e-29dc-4b18-e991-94825ebe6757"
      },
      "execution_count": 6,
      "outputs": [
        {
          "output_type": "stream",
          "name": "stdout",
          "text": [
            "81\n"
          ]
        }
      ]
    },
    {
      "cell_type": "code",
      "source": [
        "# 나눗셈 후 나머지를 반환하는 % 연산자\n",
        "\n",
        "print(7%3)\n",
        "print(3%7)"
      ],
      "metadata": {
        "colab": {
          "base_uri": "https://localhost:8080/"
        },
        "id": "eeOzEcTT6l0-",
        "outputId": "989f46f3-dea1-474f-9776-f0dd5469e48e"
      },
      "execution_count": 7,
      "outputs": [
        {
          "output_type": "stream",
          "name": "stdout",
          "text": [
            "1\n",
            "3\n"
          ]
        }
      ]
    },
    {
      "cell_type": "code",
      "source": [
        "# 나눗셈 후 몫을 반환하는 // 연산자\n",
        "\n",
        "print(7/4)\n",
        "print(7//4)"
      ],
      "metadata": {
        "colab": {
          "base_uri": "https://localhost:8080/"
        },
        "id": "713vbrTS6t3L",
        "outputId": "86645350-3c4e-4173-9822-8e4ef83d2ce3"
      },
      "execution_count": 8,
      "outputs": [
        {
          "output_type": "stream",
          "name": "stdout",
          "text": [
            "1.75\n",
            "1\n"
          ]
        }
      ]
    },
    {
      "cell_type": "code",
      "source": [
        "# 나혼자 코딩 연습 문제\n",
        "# 숫자 14를 3으로 나누었을 때 몫과 나머지를 확인해 보자\n",
        "\n",
        "print('몫:',14//3)\n",
        "print('나머지:',14%3)"
      ],
      "metadata": {
        "colab": {
          "base_uri": "https://localhost:8080/"
        },
        "id": "2VmUZPVH61pq",
        "outputId": "da6e6a80-a9a3-4b52-f35b-f98f716d893a"
      },
      "execution_count": 9,
      "outputs": [
        {
          "output_type": "stream",
          "name": "stdout",
          "text": [
            "몫: 4\n",
            "나머지: 2\n"
          ]
        }
      ]
    },
    {
      "cell_type": "markdown",
      "source": [
        "## 문자열 자료형"
      ],
      "metadata": {
        "id": "4ZqeCSqR7Gue"
      }
    },
    {
      "cell_type": "code",
      "source": [
        "# 문자열은 어떻게 사용할까? -> ' ', \" \", ''' ''', \"\"\" \"\"\""
      ],
      "metadata": {
        "id": "9mM3a3KH7GBe"
      },
      "execution_count": null,
      "outputs": []
    },
    {
      "cell_type": "code",
      "source": [
        "# 문자열에 작은 따옴표 포함 시키기 -> '' 이외의 다른 따옴표 사용\n",
        "print(\"Python's favorite food is perl\")"
      ],
      "metadata": {
        "colab": {
          "base_uri": "https://localhost:8080/"
        },
        "id": "uFm3zcmm7TiD",
        "outputId": "3a7ab947-40bf-486f-e2a0-d65c236f37cd"
      },
      "execution_count": 10,
      "outputs": [
        {
          "output_type": "stream",
          "name": "stdout",
          "text": [
            "Python's favorite food is perl\n"
          ]
        }
      ]
    },
    {
      "cell_type": "code",
      "source": [
        "food = \"Python's favorite food is perl\"\n",
        "print(food)"
      ],
      "metadata": {
        "colab": {
          "base_uri": "https://localhost:8080/"
        },
        "id": "2FUTgOs37dXx",
        "outputId": "ca60563b-20ba-4417-df5f-03c75a9ce3a3"
      },
      "execution_count": 11,
      "outputs": [
        {
          "output_type": "stream",
          "name": "stdout",
          "text": [
            "Python's favorite food is perl\n"
          ]
        }
      ]
    },
    {
      "cell_type": "code",
      "source": [
        "# \\(\\ or 백슬래시)를 사용해서 작은 따옴표와 큰 따옴표를 문자열에 포함시키기\n",
        "\n",
        "food = 'Python\\'s favorite food is perl.'\n",
        "say = \"\\\"Python is very easy.\\\" he says.\"\n",
        "\n",
        "print(food,'\\n',say)"
      ],
      "metadata": {
        "colab": {
          "base_uri": "https://localhost:8080/"
        },
        "id": "Gdu7bj1I7ogI",
        "outputId": "f0356a15-a9fe-44b9-901a-de78e83ab60c"
      },
      "execution_count": 16,
      "outputs": [
        {
          "output_type": "stream",
          "name": "stdout",
          "text": [
            "Python's favorite food is perl. \n",
            " \"Python is very easy.\" he says.\n"
          ]
        }
      ]
    },
    {
      "cell_type": "code",
      "source": [
        "# 여러 줄인 문자열을 변수에 대입하고 싶을 때\n",
        "\n",
        "multiline = \"Life is too short\\nYou need python\"\n",
        "print(multiline)"
      ],
      "metadata": {
        "colab": {
          "base_uri": "https://localhost:8080/"
        },
        "id": "K6-CCA8c8RqR",
        "outputId": "795d5119-472c-434f-b6f9-56a0ea6939eb"
      },
      "execution_count": 17,
      "outputs": [
        {
          "output_type": "stream",
          "name": "stdout",
          "text": [
            "Life is too short\n",
            "You need python\n"
          ]
        }
      ]
    },
    {
      "cell_type": "code",
      "source": [
        "# 연속된 작은 따옴표 3개('''''') 또는 큰 따옴표 3개(\"\"\"\"\"\") 사용하기\n",
        "\n",
        "multiline = '''\n",
        "Life isi too short\n",
        "You need python\n",
        "'''\n",
        "print(multiline)"
      ],
      "metadata": {
        "colab": {
          "base_uri": "https://localhost:8080/"
        },
        "id": "HHz7es7s8j60",
        "outputId": "fe67f4d5-a4c2-4d58-a4c1-fbeb43824c15"
      },
      "execution_count": 18,
      "outputs": [
        {
          "output_type": "stream",
          "name": "stdout",
          "text": [
            "\n",
            "Life isi too short\n",
            "You need python\n",
            "\n"
          ]
        }
      ]
    },
    {
      "cell_type": "code",
      "source": [
        "multiline = \"\"\"\n",
        "Life isi too short\n",
        "You need python\n",
        "\"\"\"\n",
        "print(multiline)"
      ],
      "metadata": {
        "colab": {
          "base_uri": "https://localhost:8080/"
        },
        "id": "CorhjvuO8whe",
        "outputId": "945cfb74-00da-45ac-b140-e9be523a8de6"
      },
      "execution_count": 19,
      "outputs": [
        {
          "output_type": "stream",
          "name": "stdout",
          "text": [
            "\n",
            "Life isi too short\n",
            "You need python\n",
            "\n"
          ]
        }
      ]
    },
    {
      "cell_type": "markdown",
      "source": [
        "- \\n: 문자열 안에서 줄을 바꿀 때 사용\n",
        "- \\t: 문자열 사이에 탭 간격을 줄 때 사용\n",
        "- \\\\: 문자 \\를 그대로 표현할 때 사용\n",
        "- \\\\': 작은따옴표를 그대로 표현할 때 사용\n",
        "- \\\\\": 큰따옴표를 그대로 표현할 때 사용\n",
        "- \\r: 캐리지 리턴(줄바꿈 문자, 현재 커서를 가장 앞으로 이동)\n",
        "- \\f: 폼피드(줄 바꿈 문자, 현재 커서를 다음 줄로 이동)\n",
        "- \\a: 벨소리(출력할 때 PC 스피커에서 '삑' 소리가 난다.\n",
        "- \\b: 백스페이스\n",
        "- \\000: 널 문자\n",
        "\n",
        "* 이중에서 활용 빈도가 높은 것은 \\n, \\t, \\\\, \\', \\\"이다. 나머지는 프로그램에서 잘 사용하지 않는다."
      ],
      "metadata": {
        "id": "p1BU8Oif84qF"
      }
    },
    {
      "cell_type": "code",
      "source": [
        "# 문자열 연산하기\n",
        "# 문자열 더해서 연결하기\n",
        "\n",
        "head = \"Python\"\n",
        "tail = \" is fun!\"\n",
        "\n",
        "print(head + tail)"
      ],
      "metadata": {
        "colab": {
          "base_uri": "https://localhost:8080/"
        },
        "id": "LX2-DMrq8zas",
        "outputId": "9dd40593-61dd-47a2-b383-75fa52ed14a6"
      },
      "execution_count": 20,
      "outputs": [
        {
          "output_type": "stream",
          "name": "stdout",
          "text": [
            "Python is fun!\n"
          ]
        }
      ]
    },
    {
      "cell_type": "code",
      "source": [
        "# 문자열 곱하기\n",
        "a = 'Python'\n",
        "\n",
        "print(a*2)"
      ],
      "metadata": {
        "colab": {
          "base_uri": "https://localhost:8080/"
        },
        "id": "8oq5jNMR9v7Q",
        "outputId": "b0344160-464a-41ff-f89a-05c427989742"
      },
      "execution_count": 21,
      "outputs": [
        {
          "output_type": "stream",
          "name": "stdout",
          "text": [
            "PythonPython\n"
          ]
        }
      ]
    },
    {
      "cell_type": "code",
      "source": [
        "# 문자열 길이 구하기\n",
        "\n",
        "a = \"Life is too short\"\n",
        "\n",
        "print(len(a))"
      ],
      "metadata": {
        "colab": {
          "base_uri": "https://localhost:8080/"
        },
        "id": "3MPg4esM90DU",
        "outputId": "4b163708-527d-401b-dfa1-3e669dd7aaea"
      },
      "execution_count": 22,
      "outputs": [
        {
          "output_type": "stream",
          "name": "stdout",
          "text": [
            "17\n"
          ]
        }
      ]
    },
    {
      "cell_type": "code",
      "source": [
        "# 문자열 인덱싱과 슬라이싱\n",
        "# 파이썬은 0부터 숫자를 센다.\n",
        "\n",
        "a = \"Life is too short, You need Python\"\n",
        "\n",
        "# 변수 a의 4번째 글자 출력\n",
        "print(a[3])"
      ],
      "metadata": {
        "colab": {
          "base_uri": "https://localhost:8080/"
        },
        "id": "PMQrE-bc9_t9",
        "outputId": "f41fa1bd-ec10-49b8-cdb5-86bfda4bfb29"
      },
      "execution_count": 29,
      "outputs": [
        {
          "output_type": "stream",
          "name": "stdout",
          "text": [
            "e\n"
          ]
        }
      ]
    },
    {
      "cell_type": "code",
      "source": [
        "print(a[0])\n",
        "print(a[12])\n",
        "\n",
        "# 맨 뒤에서부터 첫번째\n",
        "print(a[-1])"
      ],
      "metadata": {
        "colab": {
          "base_uri": "https://localhost:8080/"
        },
        "id": "or1x1gap-I5X",
        "outputId": "e387fb72-ede9-4b39-cedf-6acfb2f4f2d8"
      },
      "execution_count": 30,
      "outputs": [
        {
          "output_type": "stream",
          "name": "stdout",
          "text": [
            "L\n",
            "s\n",
            "n\n"
          ]
        }
      ]
    },
    {
      "cell_type": "code",
      "source": [
        "# 0 = -0 이기때문에 -0 입력시 0과 동일한 결과\n",
        "\n",
        "print(a[-0])"
      ],
      "metadata": {
        "colab": {
          "base_uri": "https://localhost:8080/"
        },
        "id": "fgNPOq3y-bXa",
        "outputId": "e919a06a-3600-4036-9626-a239edb2c4f4"
      },
      "execution_count": 31,
      "outputs": [
        {
          "output_type": "stream",
          "name": "stdout",
          "text": [
            "L\n"
          ]
        }
      ]
    },
    {
      "cell_type": "code",
      "source": [
        "a = \"Life is too short, You need Python\"\n",
        "b = a[0] + a[1] + a[2] + a[3]\n",
        "\n",
        "print(b)"
      ],
      "metadata": {
        "colab": {
          "base_uri": "https://localhost:8080/"
        },
        "id": "P9Hd07mE-jDc",
        "outputId": "2ea67fab-ccfc-4603-ffd3-e2b77fed2d19"
      },
      "execution_count": 32,
      "outputs": [
        {
          "output_type": "stream",
          "name": "stdout",
          "text": [
            "Life\n"
          ]
        }
      ]
    },
    {
      "cell_type": "code",
      "source": [
        "a = \"Life is too short, You need Python\"\n",
        "\n",
        "print(a[0:4])"
      ],
      "metadata": {
        "colab": {
          "base_uri": "https://localhost:8080/"
        },
        "id": "5Dq69aJ1AVk0",
        "outputId": "15d41226-d573-44af-db30-ea1373289b12"
      },
      "execution_count": 33,
      "outputs": [
        {
          "output_type": "stream",
          "name": "stdout",
          "text": [
            "Life\n"
          ]
        }
      ]
    },
    {
      "cell_type": "code",
      "source": [
        "# 슬라이싱 할 떼 항상 시작 번호가 0일 필요는 없다.\n",
        "\n",
        "print(a[0:2])\n",
        "print(a[5:7])\n",
        "print(a[12:17])"
      ],
      "metadata": {
        "colab": {
          "base_uri": "https://localhost:8080/"
        },
        "id": "DIgySdjkAZwp",
        "outputId": "ccb3458e-6680-4f8b-c1bb-d9b109d2f45c"
      },
      "execution_count": 34,
      "outputs": [
        {
          "output_type": "stream",
          "name": "stdout",
          "text": [
            "Li\n",
            "is\n",
            "short\n"
          ]
        }
      ]
    },
    {
      "cell_type": "code",
      "source": [
        "# a[시작번호:끝번호]에서 끝 번호 부분을 생략하면 시작 번호 부터 그 문자열의 끝까지 뽑아낸다.\n",
        "\n",
        "print(a[19:])"
      ],
      "metadata": {
        "colab": {
          "base_uri": "https://localhost:8080/"
        },
        "id": "-cjiLdNzAqBL",
        "outputId": "638ab39d-474f-4ae1-edc4-b00a1e9c16d7"
      },
      "execution_count": 35,
      "outputs": [
        {
          "output_type": "stream",
          "name": "stdout",
          "text": [
            "You need Python\n"
          ]
        }
      ]
    },
    {
      "cell_type": "code",
      "source": [
        "# a[시작 번호: 끝 번호]에서 시작 번호를 생략하면 문자열의 처음부터 끝 번호까지 뽑아낸다.\n",
        "\n",
        "print(a[:17])"
      ],
      "metadata": {
        "colab": {
          "base_uri": "https://localhost:8080/"
        },
        "id": "tGXPAQ1xA3dO",
        "outputId": "2b5f216b-fda0-4155-d429-e49f5f995639"
      },
      "execution_count": 36,
      "outputs": [
        {
          "output_type": "stream",
          "name": "stdout",
          "text": [
            "Life is too short\n"
          ]
        }
      ]
    },
    {
      "cell_type": "code",
      "source": [
        "# a[시작 번호: 끝 번호]에서 시작 번호와 끝 번호를 생략하면 문자열의 처음부터 끝까지를 뽑아낸다.\n",
        "\n",
        "print(a[:])"
      ],
      "metadata": {
        "colab": {
          "base_uri": "https://localhost:8080/"
        },
        "id": "h7IO9k5OA-D4",
        "outputId": "dc60977c-a47a-488c-c0de-854303d42f6c"
      },
      "execution_count": 37,
      "outputs": [
        {
          "output_type": "stream",
          "name": "stdout",
          "text": [
            "Life is too short, You need Python\n"
          ]
        }
      ]
    },
    {
      "cell_type": "code",
      "source": [
        "# 슬라이싱에서도 인덱싱과 마찬가지로 - 기호를 사용할 수 있다.\n",
        "\n",
        "print(a[19:-7])"
      ],
      "metadata": {
        "colab": {
          "base_uri": "https://localhost:8080/"
        },
        "id": "NttmE7ayBFIi",
        "outputId": "f913bbb1-eeb5-4e87-ef07-6ef49e48ad20"
      },
      "execution_count": 38,
      "outputs": [
        {
          "output_type": "stream",
          "name": "stdout",
          "text": [
            "You need\n"
          ]
        }
      ]
    },
    {
      "cell_type": "code",
      "source": [
        "# 슬라이싱으로 문자열 나누기\n",
        "\n",
        "a = \"20010331Rainy\"\n",
        "\n",
        "date = a[:8]\n",
        "weather = a[8:]\n",
        "\n",
        "print(date)\n",
        "print(weather)"
      ],
      "metadata": {
        "colab": {
          "base_uri": "https://localhost:8080/"
        },
        "id": "SpHB1ypRBKS6",
        "outputId": "193df2ed-6bf3-4ca7-b57e-a17966a6b91b"
      },
      "execution_count": 39,
      "outputs": [
        {
          "output_type": "stream",
          "name": "stdout",
          "text": [
            "20010331\n",
            "Rainy\n"
          ]
        }
      ]
    },
    {
      "cell_type": "code",
      "source": [
        "# Pithon이라는 문자열을 Python으로 바꾸려면?\n",
        "\n",
        "a = \"Pithon\"\n",
        "\n",
        "print(a[:1]+'y'+a[2:])"
      ],
      "metadata": {
        "colab": {
          "base_uri": "https://localhost:8080/"
        },
        "id": "rQylE38dBacd",
        "outputId": "2eb2bf45-1704-41b9-a7ac-d4d321eb45ba"
      },
      "execution_count": 40,
      "outputs": [
        {
          "output_type": "stream",
          "name": "stdout",
          "text": [
            "Python\n"
          ]
        }
      ]
    },
    {
      "cell_type": "code",
      "source": [
        "# 문자열 포맷팅 %d - 숫자\n",
        "\n",
        "print('I eat %d apples.' % 3)"
      ],
      "metadata": {
        "colab": {
          "base_uri": "https://localhost:8080/"
        },
        "id": "lURgQl9UBl2_",
        "outputId": "f42bb200-d1db-4d1c-e28d-71a5f9ef1695"
      },
      "execution_count": 41,
      "outputs": [
        {
          "output_type": "stream",
          "name": "stdout",
          "text": [
            "I eat 3 apples.\n"
          ]
        }
      ]
    },
    {
      "cell_type": "code",
      "source": [
        "# %s - 문자\n",
        "\n",
        "print('I eat %s apples.' % \"five\")"
      ],
      "metadata": {
        "colab": {
          "base_uri": "https://localhost:8080/"
        },
        "id": "yZz_UwKgBto6",
        "outputId": "502b43ff-6a94-45db-d30f-1ee64ab4a0e1"
      },
      "execution_count": 43,
      "outputs": [
        {
          "output_type": "stream",
          "name": "stdout",
          "text": [
            "I eat five apples.\n"
          ]
        }
      ]
    },
    {
      "cell_type": "code",
      "source": [
        "# 숫자 값을 나타내는 변수로 대입\n",
        "\n",
        "number = 3\n",
        "\n",
        "print('I eat %d apples.' % number)"
      ],
      "metadata": {
        "colab": {
          "base_uri": "https://localhost:8080/"
        },
        "id": "OHvnxEh4Bxcl",
        "outputId": "9fb4b358-e608-4068-acaa-0f7e21cd389a"
      },
      "execution_count": 44,
      "outputs": [
        {
          "output_type": "stream",
          "name": "stdout",
          "text": [
            "I eat 3 apples.\n"
          ]
        }
      ]
    },
    {
      "cell_type": "code",
      "source": [
        "#  2개 이상의 값 넣기\n",
        "\n",
        "number = 10\n",
        "day = \"three\"\n",
        "\n",
        "print('I ate %d apples. so I was sick for %s days.' % (number, day))"
      ],
      "metadata": {
        "colab": {
          "base_uri": "https://localhost:8080/"
        },
        "id": "spKiCHJBCAfO",
        "outputId": "f6532da3-cf08-4118-af50-a490ea4d6ef1"
      },
      "execution_count": 45,
      "outputs": [
        {
          "output_type": "stream",
          "name": "stdout",
          "text": [
            "I ate 10 apples. so I was sick for three days.\n"
          ]
        }
      ]
    },
    {
      "cell_type": "code",
      "source": [
        "# 정렬과 공백\n",
        "\n",
        "print('%10s' % \"hi\")"
      ],
      "metadata": {
        "colab": {
          "base_uri": "https://localhost:8080/"
        },
        "id": "gvFkNEvoCL7V",
        "outputId": "76cf587f-d7be-4b5e-8ef7-355cbe7066e4"
      },
      "execution_count": 46,
      "outputs": [
        {
          "output_type": "stream",
          "name": "stdout",
          "text": [
            "        hi\n"
          ]
        }
      ]
    },
    {
      "cell_type": "code",
      "source": [
        "# 반대쪽 왼쪽 정렬\n",
        "\n",
        "print('%-10sjane' % 'hi')"
      ],
      "metadata": {
        "colab": {
          "base_uri": "https://localhost:8080/"
        },
        "id": "tZE8WZBlCch6",
        "outputId": "1ff4296b-1ab5-48fb-a02c-3111bf1f5711"
      },
      "execution_count": 47,
      "outputs": [
        {
          "output_type": "stream",
          "name": "stdout",
          "text": [
            "hi        jane\n"
          ]
        }
      ]
    },
    {
      "cell_type": "code",
      "source": [
        "# 소수점 표현\n",
        "\n",
        "print('%0.4f' % 3.42134234)\n",
        "print('%10.4f' % 3.42134234)"
      ],
      "metadata": {
        "colab": {
          "base_uri": "https://localhost:8080/"
        },
        "id": "0JyefGihCkNg",
        "outputId": "4da075bd-2544-414e-e7dd-74d61b6c1458"
      },
      "execution_count": 49,
      "outputs": [
        {
          "output_type": "stream",
          "name": "stdout",
          "text": [
            "3.4213\n",
            "    3.4213\n"
          ]
        }
      ]
    },
    {
      "cell_type": "code",
      "source": [
        "# 바로 대입하기\n",
        "\n",
        "print('I eat {0} apples.'.format(3))\n",
        "print('I eat {0} apples.'.format('five'))\n",
        "\n",
        "number = 3\n",
        "print('I eat {0} apples.'.format(number))\n",
        "\n",
        "number = 10\n",
        "day = 'three'\n",
        "print('I eat {0} apples. so I was sick for {1} days.'.format(number,day))\n",
        "\n",
        "print('I eat {number} apples. so I was sick for {day} days.'.format(number=10,day=3))"
      ],
      "metadata": {
        "colab": {
          "base_uri": "https://localhost:8080/"
        },
        "id": "j-b_Z90uCvq5",
        "outputId": "a9f3f0ad-717b-43b4-d71d-cb5aaea9eccf"
      },
      "execution_count": 50,
      "outputs": [
        {
          "output_type": "stream",
          "name": "stdout",
          "text": [
            "I eat 3 apples.\n",
            "I eat five apples.\n",
            "I eat 3 apples.\n",
            "I eat 10 apples. so I was sick for three days.\n",
            "I eat 10 apples. so I was sick for 3 days.\n"
          ]
        }
      ]
    },
    {
      "cell_type": "code",
      "source": [
        "# 정렬\n",
        "\n",
        "print(f\"왼쪽 정렬: {'hi':<10}\")\n",
        "print(f\"오른쪽 정렬: {'hi':>10}\")\n",
        "print(f\"가운데 정렬: {'hi':^10}\")\n",
        "print(f\"가운데 정렬 후 공백 채우기: {'hi':=^10}\")\n",
        "print(f\"왼쪽 정렬 후 공백 채우기: {'hi':!^10}\")"
      ],
      "metadata": {
        "colab": {
          "base_uri": "https://localhost:8080/"
        },
        "id": "RUGzASavDS33",
        "outputId": "69e5d0e1-6c8d-481e-bc32-12a1a14b824d"
      },
      "execution_count": 55,
      "outputs": [
        {
          "output_type": "stream",
          "name": "stdout",
          "text": [
            "왼쪽 정렬: hi        \n",
            "오른쪽 정렬:         hi\n",
            "가운데 정렬:     hi    \n",
            "가운데 정렬 후 공백 채우기: ====hi====\n",
            "왼쪽 정렬 후 공백 채우기: !!!!hi!!!!\n"
          ]
        }
      ]
    },
    {
      "cell_type": "code",
      "source": [
        "# 문자열 관련 함수\n",
        "\n",
        "a= 'hobby'\n",
        "\n",
        "print(a.count('b'))"
      ],
      "metadata": {
        "colab": {
          "base_uri": "https://localhost:8080/"
        },
        "id": "WZXRulq8Dz5-",
        "outputId": "5f516b05-1f1b-46cb-8012-aeb94e11d178"
      },
      "execution_count": 56,
      "outputs": [
        {
          "output_type": "stream",
          "name": "stdout",
          "text": [
            "2\n"
          ]
        }
      ]
    },
    {
      "cell_type": "code",
      "source": [
        "# 위치 알려주기\n",
        "\n",
        "a = 'Python is the best choice'\n",
        "\n",
        "# 문자열에서 해당 문자가 처음 나온 위치\n",
        "print(a.find('b'))\n",
        "print(a.find('k'))"
      ],
      "metadata": {
        "colab": {
          "base_uri": "https://localhost:8080/"
        },
        "id": "Duj1pOHzEWN4",
        "outputId": "e75c029c-9882-4dbc-cc63-374997db31bc"
      },
      "execution_count": 57,
      "outputs": [
        {
          "output_type": "stream",
          "name": "stdout",
          "text": [
            "14\n",
            "-1\n"
          ]
        }
      ]
    },
    {
      "cell_type": "code",
      "source": [
        "# 위치 알려주기 \n",
        "\n",
        "a = \"Life is too short\"\n",
        "\n",
        "print(a.index('t'))"
      ],
      "metadata": {
        "colab": {
          "base_uri": "https://localhost:8080/"
        },
        "id": "9udfdpPlEjSV",
        "outputId": "ba526c57-b457-4c55-b748-325467df3e98"
      },
      "execution_count": 59,
      "outputs": [
        {
          "output_type": "stream",
          "name": "stdout",
          "text": [
            "8\n"
          ]
        }
      ]
    },
    {
      "cell_type": "code",
      "source": [
        "# 문자열 삽입(join)\n",
        "\n",
        "print(\",\".join('abcd'))"
      ],
      "metadata": {
        "colab": {
          "base_uri": "https://localhost:8080/"
        },
        "id": "VDhwsnXoErY8",
        "outputId": "512de398-b68a-428b-c70e-b901220bc2a8"
      },
      "execution_count": 60,
      "outputs": [
        {
          "output_type": "stream",
          "name": "stdout",
          "text": [
            "a,b,c,d\n"
          ]
        }
      ]
    },
    {
      "cell_type": "code",
      "source": [
        "print(\",\".join(['a','b','c','d']))"
      ],
      "metadata": {
        "colab": {
          "base_uri": "https://localhost:8080/"
        },
        "id": "K-kZE4iaEy-D",
        "outputId": "5504fb66-a81f-42c5-f019-d9e50a86828b"
      },
      "execution_count": 62,
      "outputs": [
        {
          "output_type": "stream",
          "name": "stdout",
          "text": [
            "a,b,c,d\n"
          ]
        }
      ]
    },
    {
      "cell_type": "code",
      "source": [
        "# 소문자를 대문자로 바꾸기 (upper)\n",
        "\n",
        "a = 'hi'\n",
        "print(a.upper())"
      ],
      "metadata": {
        "colab": {
          "base_uri": "https://localhost:8080/"
        },
        "id": "GobmoZFOE48m",
        "outputId": "9b1e1ba6-3607-4cbe-ee86-119946a23a1f"
      },
      "execution_count": 63,
      "outputs": [
        {
          "output_type": "stream",
          "name": "stdout",
          "text": [
            "HI\n"
          ]
        }
      ]
    },
    {
      "cell_type": "code",
      "source": [
        "# 대문자를 소문자로 바꾸기(lower)\n",
        "\n",
        "a = 'Hi'\n",
        "print(a.lower())"
      ],
      "metadata": {
        "colab": {
          "base_uri": "https://localhost:8080/"
        },
        "id": "0bIcYU-NE_7u",
        "outputId": "7fc0c6e0-3783-49fa-ffd0-4baa3edba01c"
      },
      "execution_count": 65,
      "outputs": [
        {
          "output_type": "stream",
          "name": "stdout",
          "text": [
            "hi\n"
          ]
        }
      ]
    },
    {
      "cell_type": "code",
      "source": [
        "# 왼쪽 공백 지우기(lstrip)\n",
        "\n",
        "a = \"   hi   \"\n",
        "\n",
        "print(a.lstrip())"
      ],
      "metadata": {
        "colab": {
          "base_uri": "https://localhost:8080/"
        },
        "id": "36mYJOXuFFja",
        "outputId": "0404481e-6918-46cb-ab81-174ea7c7fcb8"
      },
      "execution_count": 66,
      "outputs": [
        {
          "output_type": "stream",
          "name": "stdout",
          "text": [
            "hi   \n"
          ]
        }
      ]
    },
    {
      "cell_type": "code",
      "source": [
        "# 오른쪽 공백 지우기(rstrip)\n",
        "\n",
        "a = \"   hi   \"\n",
        "\n",
        "print(a.rstrip())"
      ],
      "metadata": {
        "colab": {
          "base_uri": "https://localhost:8080/"
        },
        "id": "yVwlgbdnFMGc",
        "outputId": "5f9cebf7-8ced-454b-84d2-e51462adcbec"
      },
      "execution_count": 67,
      "outputs": [
        {
          "output_type": "stream",
          "name": "stdout",
          "text": [
            "   hi\n"
          ]
        }
      ]
    },
    {
      "cell_type": "code",
      "source": [
        "# 양쪽 공백 지우기(strip)\n",
        "\n",
        "a = \"   hi   \"\n",
        "\n",
        "print(a.strip())"
      ],
      "metadata": {
        "colab": {
          "base_uri": "https://localhost:8080/"
        },
        "id": "WmeOJp8HFQ5z",
        "outputId": "659ee800-5f9f-43ae-d98f-a4972bfb3827"
      },
      "execution_count": 68,
      "outputs": [
        {
          "output_type": "stream",
          "name": "stdout",
          "text": [
            "hi\n"
          ]
        }
      ]
    },
    {
      "cell_type": "code",
      "source": [
        "# 문자열 바꾸기(replace)\n",
        "\n",
        "a = \"Life is too short\"\n",
        "\n",
        "print(a.replace(\"Life\", \"Your leg\"))"
      ],
      "metadata": {
        "colab": {
          "base_uri": "https://localhost:8080/"
        },
        "id": "Ah4tW7TdFUh0",
        "outputId": "4a9a0052-507d-4823-9b97-91f4bb1e8306"
      },
      "execution_count": 69,
      "outputs": [
        {
          "output_type": "stream",
          "name": "stdout",
          "text": [
            "Your leg is too short\n"
          ]
        }
      ]
    },
    {
      "cell_type": "code",
      "source": [
        "# 문자열 나누기\n",
        "\n",
        "a = \"Life is too short\"\n",
        "\n",
        "print(a.split())\n",
        "\n",
        "b = 'a:b:c:d'\n",
        "\n",
        "print(b.split(':'))"
      ],
      "metadata": {
        "colab": {
          "base_uri": "https://localhost:8080/"
        },
        "id": "2SdbzQS7FbxI",
        "outputId": "06fe73ed-523d-4faa-f0bd-6a9ed17a4087"
      },
      "execution_count": 70,
      "outputs": [
        {
          "output_type": "stream",
          "name": "stdout",
          "text": [
            "['Life', 'is', 'too', 'short']\n",
            "['a', 'b', 'c', 'd']\n"
          ]
        }
      ]
    }
  ]
}