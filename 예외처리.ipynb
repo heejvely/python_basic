{
  "nbformat": 4,
  "nbformat_minor": 0,
  "metadata": {
    "colab": {
      "name": "예외처리.ipynb",
      "provenance": [],
      "authorship_tag": "ABX9TyO2UII7o4dXIMxs7PGfP4q6",
      "include_colab_link": true
    },
    "kernelspec": {
      "name": "python3",
      "display_name": "Python 3"
    },
    "language_info": {
      "name": "python"
    }
  },
  "cells": [
    {
      "cell_type": "markdown",
      "metadata": {
        "id": "view-in-github",
        "colab_type": "text"
      },
      "source": [
        "<a href=\"https://colab.research.google.com/github/heejvely/python_basic/blob/main/%EC%98%88%EC%99%B8%EC%B2%98%EB%A6%AC.ipynb\" target=\"_parent\"><img src=\"https://colab.research.google.com/assets/colab-badge.svg\" alt=\"Open In Colab\"/></a>"
      ]
    },
    {
      "cell_type": "code",
      "execution_count": 1,
      "metadata": {
        "colab": {
          "base_uri": "https://localhost:8080/",
          "height": 137
        },
        "id": "mM5yOf7yQ5eX",
        "outputId": "7d5b139a-64ac-46e4-dd8a-409d90582def"
      },
      "outputs": [
        {
          "output_type": "error",
          "ename": "SyntaxError",
          "evalue": "ignored",
          "traceback": [
            "\u001b[0;36m  File \u001b[0;32m\"<ipython-input-1-97e69b1f8d4a>\"\u001b[0;36m, line \u001b[0;32m4\u001b[0m\n\u001b[0;31m    print('예외를 강제로 발생!)\u001b[0m\n\u001b[0m                       ^\u001b[0m\n\u001b[0;31mSyntaxError\u001b[0m\u001b[0;31m:\u001b[0m EOL while scanning string literal\n"
          ]
        }
      ],
      "source": [
        "# 구문 오류 : 프로그램 실행전에 발생하는 오류\n",
        "# 예외 또는 런타임 오류 : 프로그램 실행중에 발생하는 오류\n",
        "\n",
        "print('예외를 강제로 발생!)"
      ]
    },
    {
      "cell_type": "code",
      "source": [
        "# 정수를 입력하지 않은 경우 예외 발생\n",
        "\n",
        "num_input = int(input('정수입력> '))\n",
        "print('원의 반지름: ',num_input)"
      ],
      "metadata": {
        "colab": {
          "base_uri": "https://localhost:8080/",
          "height": 248
        },
        "id": "swRmYWC9RCQ_",
        "outputId": "97195598-92ab-4ac5-8759-db01ec689646"
      },
      "execution_count": 2,
      "outputs": [
        {
          "name": "stdout",
          "output_type": "stream",
          "text": [
            "정수입력> 가\n"
          ]
        },
        {
          "output_type": "error",
          "ename": "ValueError",
          "evalue": "ignored",
          "traceback": [
            "\u001b[0;31m---------------------------------------------------------------------------\u001b[0m",
            "\u001b[0;31mValueError\u001b[0m                                Traceback (most recent call last)",
            "\u001b[0;32m<ipython-input-2-303457ccd977>\u001b[0m in \u001b[0;36m<module>\u001b[0;34m()\u001b[0m\n\u001b[1;32m      1\u001b[0m \u001b[0;31m# 정수를 입력하지 않은 경우 예외 발생\u001b[0m\u001b[0;34m\u001b[0m\u001b[0;34m\u001b[0m\u001b[0;34m\u001b[0m\u001b[0m\n\u001b[1;32m      2\u001b[0m \u001b[0;34m\u001b[0m\u001b[0m\n\u001b[0;32m----> 3\u001b[0;31m \u001b[0mnum_input\u001b[0m \u001b[0;34m=\u001b[0m \u001b[0mint\u001b[0m\u001b[0;34m(\u001b[0m\u001b[0minput\u001b[0m\u001b[0;34m(\u001b[0m\u001b[0;34m'정수입력> '\u001b[0m\u001b[0;34m)\u001b[0m\u001b[0;34m)\u001b[0m\u001b[0;34m\u001b[0m\u001b[0;34m\u001b[0m\u001b[0m\n\u001b[0m\u001b[1;32m      4\u001b[0m \u001b[0mprint\u001b[0m\u001b[0;34m(\u001b[0m\u001b[0;34m'원의 반지름: '\u001b[0m\u001b[0;34m,\u001b[0m\u001b[0mnum_input\u001b[0m\u001b[0;34m)\u001b[0m\u001b[0;34m\u001b[0m\u001b[0;34m\u001b[0m\u001b[0m\n",
            "\u001b[0;31mValueError\u001b[0m: invalid literal for int() with base 10: '가'"
          ]
        }
      ]
    },
    {
      "cell_type": "code",
      "source": [
        "# 조건문으로 예외 처리\n",
        "\n",
        "user_input = input('정수 입력 > ')\n",
        "if user_input.isdigit(): # 문자열이 숫자로 구성되어 있는지 판별해주는 함수 True or False로 반환\n",
        "  num_input = int(uset_input)\n",
        "  print('원의 반지름: ',num_input)\n",
        "else:\n",
        "  print('정수를 입력하지 않았습니다.')"
      ],
      "metadata": {
        "colab": {
          "base_uri": "https://localhost:8080/"
        },
        "id": "X_fHy1ivRPIj",
        "outputId": "41cf5d32-7ca6-4954-e5d2-a04c4fbd63eb"
      },
      "execution_count": 3,
      "outputs": [
        {
          "output_type": "stream",
          "name": "stdout",
          "text": [
            "정수 입력 > 가\n",
            "정수를 입력하지 않았습니다.\n"
          ]
        }
      ]
    },
    {
      "cell_type": "code",
      "source": [
        "# 프로그램이 실행되는 동안 오류가 발생하면 프로그램이 더 이상 진행될 수 없는 상태가 되는데 이를 예외라고 함\n",
        "# 예외가 발생해도 프로그램을 중단하지 않고 예외에 대한 적절한 처리를 하여 프로그램을\n",
        "# 계속 진행하도록 하는 구문이 try ~ except\n",
        "\n",
        "try:\n",
        "  print('안녕하세요')\n",
        "  print(param)\n",
        "except:\n",
        "  print('예외가 발생했습니다.')"
      ],
      "metadata": {
        "colab": {
          "base_uri": "https://localhost:8080/"
        },
        "id": "E948GGEjRxor",
        "outputId": "33a2785a-8be7-4583-bc82-15bc5aa8da37"
      },
      "execution_count": 4,
      "outputs": [
        {
          "output_type": "stream",
          "name": "stdout",
          "text": [
            "안녕하세요\n",
            "예외가 발생했습니다.\n"
          ]
        }
      ]
    },
    {
      "cell_type": "code",
      "source": [
        "try:\n",
        "  print('안녕하세요')\n",
        "except:\n",
        "  print('예외가 발생했습니다.')\n",
        "else:\n",
        "  print('예외가 발생하지 않았습니다.')"
      ],
      "metadata": {
        "colab": {
          "base_uri": "https://localhost:8080/"
        },
        "id": "sbuEdV1TSKXm",
        "outputId": "b7ab2d95-c224-4064-ba2c-3aae09ec6dd7"
      },
      "execution_count": 5,
      "outputs": [
        {
          "output_type": "stream",
          "name": "stdout",
          "text": [
            "안녕하세요\n",
            "예외가 발생하지 않았습니다.\n"
          ]
        }
      ]
    },
    {
      "cell_type": "code",
      "source": [
        "try:\n",
        "  print('안녕하세요')\n",
        "  print(param)\n",
        "except:\n",
        "  print('예외가 발생했습니다.')\n",
        "finally:\n",
        "  print('무조건 실행하는 코드')"
      ],
      "metadata": {
        "colab": {
          "base_uri": "https://localhost:8080/"
        },
        "id": "sWp5gZQxUbSp",
        "outputId": "5af19632-e59a-4e34-c9b0-2f2b8a85f3c5"
      },
      "execution_count": 6,
      "outputs": [
        {
          "output_type": "stream",
          "name": "stdout",
          "text": [
            "안녕하세요\n",
            "예외가 발생했습니다.\n",
            "무조건 실행하는 코드\n"
          ]
        }
      ]
    },
    {
      "cell_type": "code",
      "source": [
        "# 코드에서 예외 발생 내용을 확인하고자 하는 경우 처리 방법\n",
        "\n",
        "try:\n",
        "  print(param)\n",
        "except Exception as e:\n",
        "  print(e)"
      ],
      "metadata": {
        "colab": {
          "base_uri": "https://localhost:8080/"
        },
        "id": "X9P5Q2cBUs-O",
        "outputId": "bba1a6fd-5620-42ff-f068-7eb281812ec9"
      },
      "execution_count": 7,
      "outputs": [
        {
          "output_type": "stream",
          "name": "stdout",
          "text": [
            "name 'param' is not defined\n"
          ]
        }
      ]
    },
    {
      "cell_type": "code",
      "source": [
        "import time\n",
        "count = 1\n",
        "\n",
        "try:\n",
        "  while True:\n",
        "    print(count)\n",
        "    count += 1\n",
        "    time.sleep(0.5)\n",
        "except KeyboardInterrupt:\n",
        "  print('사용자에 의해 프로그램이 중단되었습니다.')"
      ],
      "metadata": {
        "colab": {
          "base_uri": "https://localhost:8080/"
        },
        "id": "0SUzXxGJVDWY",
        "outputId": "ec2d56f9-5216-48b1-e2cc-6733b3ad9bbb"
      },
      "execution_count": 8,
      "outputs": [
        {
          "output_type": "stream",
          "name": "stdout",
          "text": [
            "1\n",
            "2\n",
            "3\n",
            "4\n",
            "5\n",
            "6\n",
            "7\n",
            "8\n",
            "9\n",
            "10\n",
            "11\n",
            "12\n",
            "13\n",
            "14\n",
            "15\n",
            "16\n",
            "17\n",
            "18\n",
            "19\n",
            "사용자에 의해 프로그램이 중단되었습니다.\n"
          ]
        }
      ]
    },
    {
      "cell_type": "code",
      "source": [
        "# Q. 리스트 ['52','273','32','문자','103']에서 숫자 부분만 출력하세요(예외 처리 수행)\n",
        "list_input = ['52','273','32','문자','103']\n",
        "num = []\n",
        "\n",
        "for i in list_input:\n",
        "  if i.isdigit():\n",
        "    num.append(i)\n",
        "  else:\n",
        "    pass\n",
        "print(num)"
      ],
      "metadata": {
        "colab": {
          "base_uri": "https://localhost:8080/"
        },
        "id": "J_WiopxwVSCa",
        "outputId": "d9ad9791-fb34-4761-e530-ebba0308c848"
      },
      "execution_count": 10,
      "outputs": [
        {
          "output_type": "stream",
          "name": "stdout",
          "text": [
            "['52', '273', '32', '103']\n"
          ]
        }
      ]
    },
    {
      "cell_type": "code",
      "source": [
        "list_input = ['52','273','32','문자','103']\n",
        "num = []\n",
        "\n",
        "for i in list_input:\n",
        "  try:\n",
        "    int(i)\n",
        "    num.append(i)\n",
        "  except:\n",
        "    pass\n",
        "\n",
        "print(num)"
      ],
      "metadata": {
        "colab": {
          "base_uri": "https://localhost:8080/"
        },
        "id": "HwM1-EW2VjMB",
        "outputId": "91b6a155-12e6-45c0-ff6a-1c06eae1b40f"
      },
      "execution_count": 11,
      "outputs": [
        {
          "output_type": "stream",
          "name": "stdout",
          "text": [
            "['52', '273', '32', '103']\n"
          ]
        }
      ]
    },
    {
      "cell_type": "code",
      "source": [
        "# Q. 정수를 입력하면 '정수', 정수가 아니면 '정수 아님'을 출력하세요.\n",
        "\n",
        "try:\n",
        "  num = int(input('정수 입력> '))\n",
        "except:\n",
        "  print('정수 아님')\n",
        "else:\n",
        "  print('정수')"
      ],
      "metadata": {
        "colab": {
          "base_uri": "https://localhost:8080/"
        },
        "id": "C4g1Z5EWV8I_",
        "outputId": "de941c36-af8b-484d-a4b9-78242f1806c0"
      },
      "execution_count": 12,
      "outputs": [
        {
          "output_type": "stream",
          "name": "stdout",
          "text": [
            "정수 입력> 3,4\n",
            "정수 아님\n"
          ]
        }
      ]
    },
    {
      "cell_type": "code",
      "source": [
        "# Q. 정수를 입력하면 '입력 정수' > '예외 발생하지 않음' > '프로그램 종료' \n",
        "# 정수가 아니면 '입력 값' > '정수 아님' > '프로그램 종료' 순서대로 출력하세요\n",
        "\n",
        "try:\n",
        "  num = int(input('정수 입력: '))\n",
        "except:\n",
        "  print('정수 아님')\n",
        "else:\n",
        "  print(num)\n",
        "  print('예외 발생하지 않음.')\n",
        "finally:\n",
        "  print('프로그램 종료')"
      ],
      "metadata": {
        "colab": {
          "base_uri": "https://localhost:8080/"
        },
        "id": "5LsMRTz9WIPs",
        "outputId": "0157317e-4bee-4132-81bb-e68f41c07d1a"
      },
      "execution_count": 13,
      "outputs": [
        {
          "output_type": "stream",
          "name": "stdout",
          "text": [
            "정수 입력: 가\n",
            "정수 아님\n",
            "프로그램 종료\n"
          ]
        }
      ]
    },
    {
      "cell_type": "code",
      "source": [
        "# Q. 아래 코드에서 try ~ except ~ finally를 사용하여 'finally 구문이 실행되었습니다.'를 출력하세요\n",
        "\n",
        "print('프로그램이 시작되었습니다.')\n",
        "while True:\n",
        "    try:\n",
        "        print('try 구문이 시작되었습니다.')\n",
        "        break\n",
        "        print('try 구문의 break 키워드 뒤입니다.')\n",
        "    except:\n",
        "        print('except 구문이 실행되었습니다.')\n",
        "    finally:\n",
        "        print('finally 구문이 실행되었습니다.')\n",
        "    print('while 반복문의 마지막 줄입니다.')\n",
        "print('프로그램이 종료되었습니다.')"
      ],
      "metadata": {
        "colab": {
          "base_uri": "https://localhost:8080/"
        },
        "id": "GRbJBwDzWe4s",
        "outputId": "fe92a9fe-2edf-468a-f62c-50cdedcbde44"
      },
      "execution_count": 14,
      "outputs": [
        {
          "output_type": "stream",
          "name": "stdout",
          "text": [
            "프로그램이 시작되었습니다.\n",
            "try 구문이 시작되었습니다.\n",
            "finally 구문이 실행되었습니다.\n",
            "프로그램이 종료되었습니다.\n"
          ]
        }
      ]
    },
    {
      "cell_type": "code",
      "source": [
        "# Q. 숫자 대신 문자를 입력 시 예외가 발생되는데 아래 코드를 수정해서 \n",
        "# 예외 객체의 자료형과 예외 객체 자체를 출력하세요\n",
        "\n",
        "try:\n",
        "    num_input = int(input('정수 입력> '))\n",
        "    print('원의 반지름:', num_input)\n",
        "    print('원의 둘레:', 2*3.14*num_input)\n",
        "    print('원의 넓이:', 3.14*num_input*num_input)\n",
        "except Exception as e:\n",
        "    print(type(e))\n",
        "    print(e)"
      ],
      "metadata": {
        "colab": {
          "base_uri": "https://localhost:8080/"
        },
        "id": "HbOUPsGzWzId",
        "outputId": "3fdb3b90-d690-497d-93e9-05576d0955fc"
      },
      "execution_count": 15,
      "outputs": [
        {
          "output_type": "stream",
          "name": "stdout",
          "text": [
            "정수 입력> 4\n",
            "원의 반지름: 4\n",
            "원의 둘레: 25.12\n",
            "원의 넓이: 50.24\n"
          ]
        }
      ]
    },
    {
      "cell_type": "code",
      "source": [
        "# 과제\n",
        "# Q. 아래 코드를 모든 예외를 처리할 수 있도록 보완하세요\n",
        "list_num = [52,273,32,72,100]\n",
        "try:\n",
        "    num_input = int(input('정수 입력> '))\n",
        "    print('{}번째 요소: {}'.format(num_input, list_num[num_input]))\n",
        "    예외.발생()\n",
        "except ValueError as exception:\n",
        "    print('정수를 입력해 주세요.')\n",
        "    print(type(exception),exception)\n",
        "except IndexError as exception:\n",
        "    print('리스트의 인덱스를 벗어났어요.')\n",
        "    print(type(exception),exception)\n",
        "finally:\n",
        "    print('모든 예외 처리')"
      ],
      "metadata": {
        "colab": {
          "base_uri": "https://localhost:8080/"
        },
        "id": "YoDdWeWfW8o8",
        "outputId": "f2c1a78b-7cca-4df0-f09f-dbd798ba52a3"
      },
      "execution_count": 16,
      "outputs": [
        {
          "output_type": "stream",
          "name": "stdout",
          "text": [
            "정수 입력> 6\n",
            "리스트의 인덱스를 벗어났어요.\n",
            "<class 'IndexError'> list index out of range\n",
            "모든 예외 처리\n"
          ]
        }
      ]
    }
  ]
}